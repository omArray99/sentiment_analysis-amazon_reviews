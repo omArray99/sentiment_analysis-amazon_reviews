{
 "cells": [
  {
   "cell_type": "markdown",
   "id": "36b49256-f118-4efb-afd9-fa98b1bac618",
   "metadata": {
    "tags": []
   },
   "source": [
    "# <strong><big>A SENTIMENT ANALYSIS MINI-PROJECT USING AMAZON DATASET :</big></strong>\n",
    "<big><em>Real-world data science project in Python utilizing the sci-kit learn library.<br> \n",
    "    In this, we create a model that automatically classifies text as having a positive or negative sentiment.<br>\n",
    "    Also it identifies/classifies what the product type is from the input text.<br>\n",
    "    We accomplish this by using Amazon reviews as training data.</em></big><br><br>\n",
    "    <big>Models trained: Support Vector Machines(SVM), Decision Trees, Naive Bayes Classifier, Logistic Regression</big><br><br>\n",
    "    <big>Team Members:</big><br>\n",
    "\n",
    "    \n",
    "<table border=\"1\" align=\"left\" style=\"width: 25%\">\n",
    "\t  <tr>\n",
    "\t    <th><big>Name</big></th>\n",
    "\t    <th><big>Roll Number</big></th>\n",
    "\t  </tr>\n",
    "\t  <tr>\n",
    "\t    <td align=\"center\"><em><strong>Anushka Khuspe</strong></em></td>\n",
    "\t    <td align=\"center\"><em><strong>106</strong></em></td>\n",
    "\t  </tr>\n",
    "\t  <tr>\n",
    "\t    <td align=\"center\"><em><strong>Om Parghale</strong></em></td>\n",
    "\t    <td align=\"center\"><em><strong>099</strong></em></td>\n",
    "\t  </tr>\n",
    "\t  <tr>\n",
    "\t    <td align=\"center\"><em><strong>Shivani Nyamgouda</strong></em></td>\n",
    "\t    <td align=\"center\"><em><strong>103</strong></em></td>\n",
    "\t  </tr>\n",
    "</table>   \n"
   ]
  },
  {
   "cell_type": "markdown",
   "id": "6177f58b-e068-4bfa-b56f-64d1f69356cd",
   "metadata": {},
   "source": [
    "## **Load In Data**"
   ]
  },
  {
   "cell_type": "markdown",
   "id": "7711af4e-9bf8-484a-9306-9d3a599defeb",
   "metadata": {},
   "source": [
    "### Data Class"
   ]
  },
  {
   "cell_type": "code",
   "execution_count": 1,
   "id": "c5ea4416-8ee4-47b9-b41a-ecf789b7f090",
   "metadata": {},
   "outputs": [],
   "source": [
    "import random\n",
    "\n",
    "class Sentiment:\n",
    "    NEGATIVE=\"NEGATIVE\"\n",
    "    POSITIVE=\"POSITIVE\"\n",
    "    NEUTRAL=\"NEUTRAL\"\n",
    "    \n",
    "\n",
    "class Review:\n",
    "    def __init__(self,text,score):\n",
    "        self.text=text\n",
    "        self.score=score\n",
    "        self.sentiment=self.get_sentiment()\n",
    "        \n",
    "    def get_sentiment(self):\n",
    "        if self.score<=2:\n",
    "            return Sentiment.NEGATIVE\n",
    "        elif self.score==3:\n",
    "            return Sentiment.NEUTRAL\n",
    "        else: #Score of 4 or 5\n",
    "            return Sentiment.POSITIVE\n",
    "        \n",
    "class ReviewContainer:\n",
    "    def __init__(self,reviews):\n",
    "        self.reviews=reviews\n",
    "        \n",
    "    def get_text(self):\n",
    "        return [x.text for x in self.reviews]\n",
    "    \n",
    "    def get_sentiment(self):\n",
    "        return [x.sentiment for x in self.reviews]\n",
    "        \n",
    "    def evenly_distributed(self):\n",
    "        negative = list(filter(lambda x: x.sentiment==Sentiment.NEGATIVE,self.reviews))\n",
    "        positive = list(filter(lambda x: x.sentiment==Sentiment.POSITIVE,self.reviews))\n",
    "        #neutral = list(filter(lambda x: x.sentiment==Sentiment.NEUTRAL,self.reviews))\n",
    "        \n",
    "        positive_shrunk=positive[:len(negative)]\n",
    "        # neutral_shrunk=neutral[:len(negative)]\n",
    "        # self.reviews=negative+positive_shrunk+neutral_shrunk\n",
    "        self.reviews=negative+positive_shrunk\n",
    "        random.shuffle(self.reviews)\n",
    "        # print(negative[0].text)\n",
    "        # print(len(negative))\n",
    "        # print(len(neutral))\n",
    "        # print(len(positive))\n",
    "        \n",
    "        "
   ]
  },
  {
   "cell_type": "markdown",
   "id": "45cae5ab-3877-42e0-a4d5-c99cfd28342f",
   "metadata": {},
   "source": [
    "### Load in Data"
   ]
  },
  {
   "cell_type": "code",
   "execution_count": 2,
   "id": "2f0d4d62-58ab-4b60-b3f6-5c2b8dac70d0",
   "metadata": {},
   "outputs": [
    {
     "data": {
      "text/plain": [
       "(\"My only complaint about this book is that it is much too short. I love this author and this series, and I can't wait for the next installment.\",\n",
       " 'POSITIVE')"
      ]
     },
     "execution_count": 2,
     "metadata": {},
     "output_type": "execute_result"
    }
   ],
   "source": [
    "import json\n",
    "import numpy as np\n",
    "\n",
    "reviews=[]\n",
    "with open('Books_small_10000.json') as f:\n",
    "    for line in f:\n",
    "        review=json.loads(line)\n",
    "        reviews.append(Review(review['reviewText'],review['overall']))\n",
    "        \n",
    "reviews[10].text,reviews[10].sentiment"
   ]
  },
  {
   "cell_type": "markdown",
   "id": "3ec2e605-ed38-411d-8a0f-fa873e75c5db",
   "metadata": {},
   "source": [
    "## **Data Prep**"
   ]
  },
  {
   "cell_type": "markdown",
   "id": "f76e16cd-e2f3-4e1e-9b87-a7c5e18d94c4",
   "metadata": {},
   "source": [
    "### Splitting the data for training and testing"
   ]
  },
  {
   "cell_type": "code",
   "execution_count": 3,
   "id": "831c71bb-c46c-40ec-9e19-1805307c3e45",
   "metadata": {},
   "outputs": [],
   "source": [
    "from sklearn.model_selection import train_test_split\n",
    "\n",
    "training,testing=train_test_split(reviews,test_size=0.33,random_state=42)\n",
    "\n",
    "train_container = ReviewContainer(training)\n",
    "test_container = ReviewContainer(testing)\n"
   ]
  },
  {
   "cell_type": "code",
   "execution_count": 4,
   "id": "cec9fad4-005a-41ae-83be-9d7640ed9ebd",
   "metadata": {},
   "outputs": [
    {
     "name": "stdout",
     "output_type": "stream",
     "text": [
      "436\n",
      "436\n"
     ]
    }
   ],
   "source": [
    "train_container.evenly_distributed()\n",
    "x_train=train_container.get_text()\n",
    "y_train=train_container.get_sentiment()\n",
    "\n",
    "test_container.evenly_distributed()\n",
    "x_test=test_container.get_text()\n",
    "y_test=test_container.get_sentiment()\n",
    "\n",
    "print(y_train.count(Sentiment.POSITIVE))\n",
    "print(y_train.count(Sentiment.NEGATIVE))"
   ]
  },
  {
   "cell_type": "markdown",
   "id": "d14b8510-ee16-4ce7-9515-e81819490cbb",
   "metadata": {},
   "source": [
    "### TFIDF Vectorization"
   ]
  },
  {
   "cell_type": "code",
   "execution_count": 5,
   "id": "087a8811-088f-4645-ac5d-374aa5f2a307",
   "metadata": {},
   "outputs": [],
   "source": [
    "from sklearn.feature_extraction.text import CountVectorizer,TfidfVectorizer\n",
    "\n",
    "vectorizer = TfidfVectorizer()\n",
    "x_train_vectors=vectorizer.fit_transform(x_train)\n",
    "x_test_vectors=vectorizer.transform(x_test)"
   ]
  },
  {
   "cell_type": "markdown",
   "id": "61f0c1b4-5c1a-4666-a17a-c986fa6cad1b",
   "metadata": {},
   "source": [
    "## Classification"
   ]
  },
  {
   "cell_type": "markdown",
   "id": "12167f64-ef73-49b0-811d-c9b9622da532",
   "metadata": {},
   "source": [
    "### Support Vector Machines"
   ]
  },
  {
   "cell_type": "code",
   "execution_count": 6,
   "id": "277533ce-f624-4b29-8c43-9347be5fa6f2",
   "metadata": {},
   "outputs": [
    {
     "data": {
      "text/html": [
       "<style>#sk-container-id-1 {color: black;background-color: white;}#sk-container-id-1 pre{padding: 0;}#sk-container-id-1 div.sk-toggleable {background-color: white;}#sk-container-id-1 label.sk-toggleable__label {cursor: pointer;display: block;width: 100%;margin-bottom: 0;padding: 0.3em;box-sizing: border-box;text-align: center;}#sk-container-id-1 label.sk-toggleable__label-arrow:before {content: \"▸\";float: left;margin-right: 0.25em;color: #696969;}#sk-container-id-1 label.sk-toggleable__label-arrow:hover:before {color: black;}#sk-container-id-1 div.sk-estimator:hover label.sk-toggleable__label-arrow:before {color: black;}#sk-container-id-1 div.sk-toggleable__content {max-height: 0;max-width: 0;overflow: hidden;text-align: left;background-color: #f0f8ff;}#sk-container-id-1 div.sk-toggleable__content pre {margin: 0.2em;color: black;border-radius: 0.25em;background-color: #f0f8ff;}#sk-container-id-1 input.sk-toggleable__control:checked~div.sk-toggleable__content {max-height: 200px;max-width: 100%;overflow: auto;}#sk-container-id-1 input.sk-toggleable__control:checked~label.sk-toggleable__label-arrow:before {content: \"▾\";}#sk-container-id-1 div.sk-estimator input.sk-toggleable__control:checked~label.sk-toggleable__label {background-color: #d4ebff;}#sk-container-id-1 div.sk-label input.sk-toggleable__control:checked~label.sk-toggleable__label {background-color: #d4ebff;}#sk-container-id-1 input.sk-hidden--visually {border: 0;clip: rect(1px 1px 1px 1px);clip: rect(1px, 1px, 1px, 1px);height: 1px;margin: -1px;overflow: hidden;padding: 0;position: absolute;width: 1px;}#sk-container-id-1 div.sk-estimator {font-family: monospace;background-color: #f0f8ff;border: 1px dotted black;border-radius: 0.25em;box-sizing: border-box;margin-bottom: 0.5em;}#sk-container-id-1 div.sk-estimator:hover {background-color: #d4ebff;}#sk-container-id-1 div.sk-parallel-item::after {content: \"\";width: 100%;border-bottom: 1px solid gray;flex-grow: 1;}#sk-container-id-1 div.sk-label:hover label.sk-toggleable__label {background-color: #d4ebff;}#sk-container-id-1 div.sk-serial::before {content: \"\";position: absolute;border-left: 1px solid gray;box-sizing: border-box;top: 0;bottom: 0;left: 50%;z-index: 0;}#sk-container-id-1 div.sk-serial {display: flex;flex-direction: column;align-items: center;background-color: white;padding-right: 0.2em;padding-left: 0.2em;position: relative;}#sk-container-id-1 div.sk-item {position: relative;z-index: 1;}#sk-container-id-1 div.sk-parallel {display: flex;align-items: stretch;justify-content: center;background-color: white;position: relative;}#sk-container-id-1 div.sk-item::before, #sk-container-id-1 div.sk-parallel-item::before {content: \"\";position: absolute;border-left: 1px solid gray;box-sizing: border-box;top: 0;bottom: 0;left: 50%;z-index: -1;}#sk-container-id-1 div.sk-parallel-item {display: flex;flex-direction: column;z-index: 1;position: relative;background-color: white;}#sk-container-id-1 div.sk-parallel-item:first-child::after {align-self: flex-end;width: 50%;}#sk-container-id-1 div.sk-parallel-item:last-child::after {align-self: flex-start;width: 50%;}#sk-container-id-1 div.sk-parallel-item:only-child::after {width: 0;}#sk-container-id-1 div.sk-dashed-wrapped {border: 1px dashed gray;margin: 0 0.4em 0.5em 0.4em;box-sizing: border-box;padding-bottom: 0.4em;background-color: white;}#sk-container-id-1 div.sk-label label {font-family: monospace;font-weight: bold;display: inline-block;line-height: 1.2em;}#sk-container-id-1 div.sk-label-container {text-align: center;}#sk-container-id-1 div.sk-container {/* jupyter's `normalize.less` sets `[hidden] { display: none; }` but bootstrap.min.css set `[hidden] { display: none !important; }` so we also need the `!important` here to be able to override the default hidden behavior on the sphinx rendered scikit-learn.org. See: https://github.com/scikit-learn/scikit-learn/issues/21755 */display: inline-block !important;position: relative;}#sk-container-id-1 div.sk-text-repr-fallback {display: none;}</style><div id=\"sk-container-id-1\" class=\"sk-top-container\"><div class=\"sk-text-repr-fallback\"><pre>SVC(C=128.0)</pre><b>In a Jupyter environment, please rerun this cell to show the HTML representation or trust the notebook. <br />On GitHub, the HTML representation is unable to render, please try loading this page with nbviewer.org.</b></div><div class=\"sk-container\" hidden><div class=\"sk-item\"><div class=\"sk-estimator sk-toggleable\"><input class=\"sk-toggleable__control sk-hidden--visually\" id=\"sk-estimator-id-1\" type=\"checkbox\" checked><label for=\"sk-estimator-id-1\" class=\"sk-toggleable__label sk-toggleable__label-arrow\">SVC</label><div class=\"sk-toggleable__content\"><pre>SVC(C=128.0)</pre></div></div></div></div></div>"
      ],
      "text/plain": [
       "SVC(C=128.0)"
      ]
     },
     "execution_count": 6,
     "metadata": {},
     "output_type": "execute_result"
    }
   ],
   "source": [
    "from sklearn import svm\n",
    "\n",
    "# object creation\n",
    "clf_svm=svm.SVC(kernel='rbf',C=128.0)\n",
    "# fitting the model for training in a svm\n",
    "clf_svm.fit(x_train_vectors,y_train)\n",
    "\n",
    "#prediction testing on first vector\n"
   ]
  },
  {
   "cell_type": "code",
   "execution_count": 7,
   "id": "065e1e08-6d26-4a4e-be2a-12e2b645deb5",
   "metadata": {},
   "outputs": [
    {
     "name": "stdout",
     "output_type": "stream",
     "text": [
      "Several stories beautifully combined into a great read.  Robie and Reel are such a good pairing.  And now I'd love to go back to them as the trio of Jerome, Julie, and Min progress in their unique relationship.  There has to be another story with the five of them. \n",
      " True Label = POSITIVE\n",
      "\n",
      " Predicted Label =  ['POSITIVE'] \n",
      "\n",
      "\n",
      "I really liked this book. It's not your typical kind of romance novel. It's down-to-earth and funny and tells a story that could actually happen. Cindy is a smart woman who never gives up and learns from her mistakes. This is why she's ultimately able to enter into a relationship that's good for her, and find love on equal terms. But there's wisdom in here for anyone who wants to change their life for the better. I'm off to buy The Sugar Ticket to see what happens to Cindy next! \n",
      " True Label = POSITIVE\n",
      "\n",
      " Predicted Label =  ['POSITIVE']\n"
     ]
    }
   ],
   "source": [
    "# Prediction testing on a random vector\n",
    "print(x_test[12],'\\n',\"True Label =\",y_test[12])\n",
    "print(\"\\n Predicted Label = \",clf_svm.predict(x_test_vectors[12]),'\\n\\n')\n",
    "\n",
    "print(x_test[54],'\\n',\"True Label =\",y_test[54])\n",
    "print(\"\\n Predicted Label = \",clf_svm.predict(x_test_vectors[54]))"
   ]
  },
  {
   "cell_type": "markdown",
   "id": "b1ed41cc-3e5d-4cca-825a-298fe5380d4f",
   "metadata": {},
   "source": [
    "### Decision Trees"
   ]
  },
  {
   "cell_type": "code",
   "execution_count": 8,
   "id": "9acccb4a-d821-40b6-9fa4-d72f56368db4",
   "metadata": {},
   "outputs": [
    {
     "data": {
      "text/html": [
       "<style>#sk-container-id-2 {color: black;background-color: white;}#sk-container-id-2 pre{padding: 0;}#sk-container-id-2 div.sk-toggleable {background-color: white;}#sk-container-id-2 label.sk-toggleable__label {cursor: pointer;display: block;width: 100%;margin-bottom: 0;padding: 0.3em;box-sizing: border-box;text-align: center;}#sk-container-id-2 label.sk-toggleable__label-arrow:before {content: \"▸\";float: left;margin-right: 0.25em;color: #696969;}#sk-container-id-2 label.sk-toggleable__label-arrow:hover:before {color: black;}#sk-container-id-2 div.sk-estimator:hover label.sk-toggleable__label-arrow:before {color: black;}#sk-container-id-2 div.sk-toggleable__content {max-height: 0;max-width: 0;overflow: hidden;text-align: left;background-color: #f0f8ff;}#sk-container-id-2 div.sk-toggleable__content pre {margin: 0.2em;color: black;border-radius: 0.25em;background-color: #f0f8ff;}#sk-container-id-2 input.sk-toggleable__control:checked~div.sk-toggleable__content {max-height: 200px;max-width: 100%;overflow: auto;}#sk-container-id-2 input.sk-toggleable__control:checked~label.sk-toggleable__label-arrow:before {content: \"▾\";}#sk-container-id-2 div.sk-estimator input.sk-toggleable__control:checked~label.sk-toggleable__label {background-color: #d4ebff;}#sk-container-id-2 div.sk-label input.sk-toggleable__control:checked~label.sk-toggleable__label {background-color: #d4ebff;}#sk-container-id-2 input.sk-hidden--visually {border: 0;clip: rect(1px 1px 1px 1px);clip: rect(1px, 1px, 1px, 1px);height: 1px;margin: -1px;overflow: hidden;padding: 0;position: absolute;width: 1px;}#sk-container-id-2 div.sk-estimator {font-family: monospace;background-color: #f0f8ff;border: 1px dotted black;border-radius: 0.25em;box-sizing: border-box;margin-bottom: 0.5em;}#sk-container-id-2 div.sk-estimator:hover {background-color: #d4ebff;}#sk-container-id-2 div.sk-parallel-item::after {content: \"\";width: 100%;border-bottom: 1px solid gray;flex-grow: 1;}#sk-container-id-2 div.sk-label:hover label.sk-toggleable__label {background-color: #d4ebff;}#sk-container-id-2 div.sk-serial::before {content: \"\";position: absolute;border-left: 1px solid gray;box-sizing: border-box;top: 0;bottom: 0;left: 50%;z-index: 0;}#sk-container-id-2 div.sk-serial {display: flex;flex-direction: column;align-items: center;background-color: white;padding-right: 0.2em;padding-left: 0.2em;position: relative;}#sk-container-id-2 div.sk-item {position: relative;z-index: 1;}#sk-container-id-2 div.sk-parallel {display: flex;align-items: stretch;justify-content: center;background-color: white;position: relative;}#sk-container-id-2 div.sk-item::before, #sk-container-id-2 div.sk-parallel-item::before {content: \"\";position: absolute;border-left: 1px solid gray;box-sizing: border-box;top: 0;bottom: 0;left: 50%;z-index: -1;}#sk-container-id-2 div.sk-parallel-item {display: flex;flex-direction: column;z-index: 1;position: relative;background-color: white;}#sk-container-id-2 div.sk-parallel-item:first-child::after {align-self: flex-end;width: 50%;}#sk-container-id-2 div.sk-parallel-item:last-child::after {align-self: flex-start;width: 50%;}#sk-container-id-2 div.sk-parallel-item:only-child::after {width: 0;}#sk-container-id-2 div.sk-dashed-wrapped {border: 1px dashed gray;margin: 0 0.4em 0.5em 0.4em;box-sizing: border-box;padding-bottom: 0.4em;background-color: white;}#sk-container-id-2 div.sk-label label {font-family: monospace;font-weight: bold;display: inline-block;line-height: 1.2em;}#sk-container-id-2 div.sk-label-container {text-align: center;}#sk-container-id-2 div.sk-container {/* jupyter's `normalize.less` sets `[hidden] { display: none; }` but bootstrap.min.css set `[hidden] { display: none !important; }` so we also need the `!important` here to be able to override the default hidden behavior on the sphinx rendered scikit-learn.org. See: https://github.com/scikit-learn/scikit-learn/issues/21755 */display: inline-block !important;position: relative;}#sk-container-id-2 div.sk-text-repr-fallback {display: none;}</style><div id=\"sk-container-id-2\" class=\"sk-top-container\"><div class=\"sk-text-repr-fallback\"><pre>DecisionTreeClassifier()</pre><b>In a Jupyter environment, please rerun this cell to show the HTML representation or trust the notebook. <br />On GitHub, the HTML representation is unable to render, please try loading this page with nbviewer.org.</b></div><div class=\"sk-container\" hidden><div class=\"sk-item\"><div class=\"sk-estimator sk-toggleable\"><input class=\"sk-toggleable__control sk-hidden--visually\" id=\"sk-estimator-id-2\" type=\"checkbox\" checked><label for=\"sk-estimator-id-2\" class=\"sk-toggleable__label sk-toggleable__label-arrow\">DecisionTreeClassifier</label><div class=\"sk-toggleable__content\"><pre>DecisionTreeClassifier()</pre></div></div></div></div></div>"
      ],
      "text/plain": [
       "DecisionTreeClassifier()"
      ]
     },
     "execution_count": 8,
     "metadata": {},
     "output_type": "execute_result"
    }
   ],
   "source": [
    "from sklearn.tree import DecisionTreeClassifier\n",
    "\n",
    "#object creation\n",
    "clf_dec = DecisionTreeClassifier()\n",
    "#fitting the model for training in a DecTree\n",
    "clf_dec.fit(x_train_vectors,y_train)"
   ]
  },
  {
   "cell_type": "code",
   "execution_count": 9,
   "id": "6196f323-ce20-41d3-80e3-e9a3e5b3a166",
   "metadata": {},
   "outputs": [
    {
     "name": "stdout",
     "output_type": "stream",
     "text": [
      "The 2 star doesn't have anything to do with Tris' decision. It was disappointing because he previous 2 books had such an intensity that I actually felt let down by the author. The explanation on how the 'experiments' were conducted was a bit insulting, being a person in science myself, which is big part on the reason for the low score. I felt too much explanation was given on the last book that wasn't even hinted on the previous ones. I do think a lot of it could have been utilized earlier in the story and not have to rush everything for the end.On e other hand, I did like how Four came down from the pedestal and joined the rest of the world, but thought extreme and unnecessary. Did appreciate the fights and doubts on their relationship, making it more real to me, but again I felt it was to extreme and too dull. It did continue building on the importance of forgiveness and self-confidence and therefore the second star, but after the hype on the first 2 books, I don't feel this one lived up them and that was a big disappointment. \n",
      " True Label = NEGATIVE\n",
      "\n",
      " Predicted Label =  ['NEGATIVE'] \n",
      "\n",
      "\n",
      "30 percent what everyone's wearing, 35 percent whining and crying and 35 percent of what the hell is going on ? No real story, plot or hope of one. No point in trying to wade thru another one. \n",
      " True Label = NEGATIVE\n",
      "\n",
      " Predicted Label =  ['POSITIVE']\n"
     ]
    }
   ],
   "source": [
    "# Prediction testing on a random vector\n",
    "print(x_test[37],'\\n',\"True Label =\",y_test[37])\n",
    "print(\"\\n Predicted Label = \",clf_svm.predict(x_test_vectors[37]),'\\n\\n')\n",
    "\n",
    "print(x_test[61],'\\n',\"True Label =\",y_test[61])\n",
    "print(\"\\n Predicted Label = \",clf_svm.predict(x_test_vectors[61]))"
   ]
  },
  {
   "cell_type": "markdown",
   "id": "dc82f03a-a91a-4849-8a47-7ab553186211",
   "metadata": {},
   "source": [
    "### Naive Bayes"
   ]
  },
  {
   "cell_type": "code",
   "execution_count": 10,
   "id": "c009a0f6-483c-4863-bc3b-a5f876937f61",
   "metadata": {},
   "outputs": [
    {
     "data": {
      "text/html": [
       "<style>#sk-container-id-3 {color: black;background-color: white;}#sk-container-id-3 pre{padding: 0;}#sk-container-id-3 div.sk-toggleable {background-color: white;}#sk-container-id-3 label.sk-toggleable__label {cursor: pointer;display: block;width: 100%;margin-bottom: 0;padding: 0.3em;box-sizing: border-box;text-align: center;}#sk-container-id-3 label.sk-toggleable__label-arrow:before {content: \"▸\";float: left;margin-right: 0.25em;color: #696969;}#sk-container-id-3 label.sk-toggleable__label-arrow:hover:before {color: black;}#sk-container-id-3 div.sk-estimator:hover label.sk-toggleable__label-arrow:before {color: black;}#sk-container-id-3 div.sk-toggleable__content {max-height: 0;max-width: 0;overflow: hidden;text-align: left;background-color: #f0f8ff;}#sk-container-id-3 div.sk-toggleable__content pre {margin: 0.2em;color: black;border-radius: 0.25em;background-color: #f0f8ff;}#sk-container-id-3 input.sk-toggleable__control:checked~div.sk-toggleable__content {max-height: 200px;max-width: 100%;overflow: auto;}#sk-container-id-3 input.sk-toggleable__control:checked~label.sk-toggleable__label-arrow:before {content: \"▾\";}#sk-container-id-3 div.sk-estimator input.sk-toggleable__control:checked~label.sk-toggleable__label {background-color: #d4ebff;}#sk-container-id-3 div.sk-label input.sk-toggleable__control:checked~label.sk-toggleable__label {background-color: #d4ebff;}#sk-container-id-3 input.sk-hidden--visually {border: 0;clip: rect(1px 1px 1px 1px);clip: rect(1px, 1px, 1px, 1px);height: 1px;margin: -1px;overflow: hidden;padding: 0;position: absolute;width: 1px;}#sk-container-id-3 div.sk-estimator {font-family: monospace;background-color: #f0f8ff;border: 1px dotted black;border-radius: 0.25em;box-sizing: border-box;margin-bottom: 0.5em;}#sk-container-id-3 div.sk-estimator:hover {background-color: #d4ebff;}#sk-container-id-3 div.sk-parallel-item::after {content: \"\";width: 100%;border-bottom: 1px solid gray;flex-grow: 1;}#sk-container-id-3 div.sk-label:hover label.sk-toggleable__label {background-color: #d4ebff;}#sk-container-id-3 div.sk-serial::before {content: \"\";position: absolute;border-left: 1px solid gray;box-sizing: border-box;top: 0;bottom: 0;left: 50%;z-index: 0;}#sk-container-id-3 div.sk-serial {display: flex;flex-direction: column;align-items: center;background-color: white;padding-right: 0.2em;padding-left: 0.2em;position: relative;}#sk-container-id-3 div.sk-item {position: relative;z-index: 1;}#sk-container-id-3 div.sk-parallel {display: flex;align-items: stretch;justify-content: center;background-color: white;position: relative;}#sk-container-id-3 div.sk-item::before, #sk-container-id-3 div.sk-parallel-item::before {content: \"\";position: absolute;border-left: 1px solid gray;box-sizing: border-box;top: 0;bottom: 0;left: 50%;z-index: -1;}#sk-container-id-3 div.sk-parallel-item {display: flex;flex-direction: column;z-index: 1;position: relative;background-color: white;}#sk-container-id-3 div.sk-parallel-item:first-child::after {align-self: flex-end;width: 50%;}#sk-container-id-3 div.sk-parallel-item:last-child::after {align-self: flex-start;width: 50%;}#sk-container-id-3 div.sk-parallel-item:only-child::after {width: 0;}#sk-container-id-3 div.sk-dashed-wrapped {border: 1px dashed gray;margin: 0 0.4em 0.5em 0.4em;box-sizing: border-box;padding-bottom: 0.4em;background-color: white;}#sk-container-id-3 div.sk-label label {font-family: monospace;font-weight: bold;display: inline-block;line-height: 1.2em;}#sk-container-id-3 div.sk-label-container {text-align: center;}#sk-container-id-3 div.sk-container {/* jupyter's `normalize.less` sets `[hidden] { display: none; }` but bootstrap.min.css set `[hidden] { display: none !important; }` so we also need the `!important` here to be able to override the default hidden behavior on the sphinx rendered scikit-learn.org. See: https://github.com/scikit-learn/scikit-learn/issues/21755 */display: inline-block !important;position: relative;}#sk-container-id-3 div.sk-text-repr-fallback {display: none;}</style><div id=\"sk-container-id-3\" class=\"sk-top-container\"><div class=\"sk-text-repr-fallback\"><pre>GaussianNB()</pre><b>In a Jupyter environment, please rerun this cell to show the HTML representation or trust the notebook. <br />On GitHub, the HTML representation is unable to render, please try loading this page with nbviewer.org.</b></div><div class=\"sk-container\" hidden><div class=\"sk-item\"><div class=\"sk-estimator sk-toggleable\"><input class=\"sk-toggleable__control sk-hidden--visually\" id=\"sk-estimator-id-3\" type=\"checkbox\" checked><label for=\"sk-estimator-id-3\" class=\"sk-toggleable__label sk-toggleable__label-arrow\">GaussianNB</label><div class=\"sk-toggleable__content\"><pre>GaussianNB()</pre></div></div></div></div></div>"
      ],
      "text/plain": [
       "GaussianNB()"
      ]
     },
     "execution_count": 10,
     "metadata": {},
     "output_type": "execute_result"
    }
   ],
   "source": [
    "from sklearn.naive_bayes import GaussianNB\n",
    "\n",
    "# object creation\n",
    "clf_nb=GaussianNB()\n",
    "\n",
    "#fitting the model for training in a NB\n",
    "x_train_vectors_dense = x_train_vectors.toarray()\n",
    "x_test_vectors_dense  = x_test_vectors.toarray()\n",
    "clf_nb.fit(x_train_vectors_dense, y_train)"
   ]
  },
  {
   "cell_type": "code",
   "execution_count": 11,
   "id": "d382c8c8-d4f2-4fec-865a-abe35cb3c5f6",
   "metadata": {},
   "outputs": [
    {
     "name": "stdout",
     "output_type": "stream",
     "text": [
      "fast paced with an ending you don't see coming.  Well written and engaging in so many levels.  Great job Jeff Carson \n",
      " True Label = POSITIVE\n",
      "\n",
      " Predicted Label =  ['POSITIVE'] \n",
      "\n",
      "\n",
      "Right away one could tell that this book was not true historical fiction. The innocent , beautiful, chaste, but learned bath maid enraptured everyone she met including a prince, a doctor, and a brewer. In the meantime religion fights with science and bloodletting fights with medicine.  Many of the characters were so stock it was like shopping at a big box store. However it is a quick read and if you like ripped bodice type of romance novels this will fit the bill. \n",
      " True Label = NEGATIVE\n",
      "\n",
      " Predicted Label =  ['POSITIVE']\n"
     ]
    }
   ],
   "source": [
    "# Prediction testing on a random vector\n",
    "print(x_test[69],'\\n',\"True Label =\",y_test[69])\n",
    "print(\"\\n Predicted Label = \",clf_svm.predict(x_test_vectors[69]),'\\n\\n')\n",
    "\n",
    "print(x_test[88],'\\n',\"True Label =\",y_test[88])\n",
    "print(\"\\n Predicted Label = \",clf_svm.predict(x_test_vectors[88]))"
   ]
  },
  {
   "cell_type": "markdown",
   "id": "b0e644c4-6f75-4dda-b3b4-92ce9ee0fba5",
   "metadata": {},
   "source": [
    "### Logistic Regression"
   ]
  },
  {
   "cell_type": "code",
   "execution_count": 12,
   "id": "cb12865c-fec8-40b3-8137-50f294289824",
   "metadata": {},
   "outputs": [
    {
     "data": {
      "text/html": [
       "<style>#sk-container-id-4 {color: black;background-color: white;}#sk-container-id-4 pre{padding: 0;}#sk-container-id-4 div.sk-toggleable {background-color: white;}#sk-container-id-4 label.sk-toggleable__label {cursor: pointer;display: block;width: 100%;margin-bottom: 0;padding: 0.3em;box-sizing: border-box;text-align: center;}#sk-container-id-4 label.sk-toggleable__label-arrow:before {content: \"▸\";float: left;margin-right: 0.25em;color: #696969;}#sk-container-id-4 label.sk-toggleable__label-arrow:hover:before {color: black;}#sk-container-id-4 div.sk-estimator:hover label.sk-toggleable__label-arrow:before {color: black;}#sk-container-id-4 div.sk-toggleable__content {max-height: 0;max-width: 0;overflow: hidden;text-align: left;background-color: #f0f8ff;}#sk-container-id-4 div.sk-toggleable__content pre {margin: 0.2em;color: black;border-radius: 0.25em;background-color: #f0f8ff;}#sk-container-id-4 input.sk-toggleable__control:checked~div.sk-toggleable__content {max-height: 200px;max-width: 100%;overflow: auto;}#sk-container-id-4 input.sk-toggleable__control:checked~label.sk-toggleable__label-arrow:before {content: \"▾\";}#sk-container-id-4 div.sk-estimator input.sk-toggleable__control:checked~label.sk-toggleable__label {background-color: #d4ebff;}#sk-container-id-4 div.sk-label input.sk-toggleable__control:checked~label.sk-toggleable__label {background-color: #d4ebff;}#sk-container-id-4 input.sk-hidden--visually {border: 0;clip: rect(1px 1px 1px 1px);clip: rect(1px, 1px, 1px, 1px);height: 1px;margin: -1px;overflow: hidden;padding: 0;position: absolute;width: 1px;}#sk-container-id-4 div.sk-estimator {font-family: monospace;background-color: #f0f8ff;border: 1px dotted black;border-radius: 0.25em;box-sizing: border-box;margin-bottom: 0.5em;}#sk-container-id-4 div.sk-estimator:hover {background-color: #d4ebff;}#sk-container-id-4 div.sk-parallel-item::after {content: \"\";width: 100%;border-bottom: 1px solid gray;flex-grow: 1;}#sk-container-id-4 div.sk-label:hover label.sk-toggleable__label {background-color: #d4ebff;}#sk-container-id-4 div.sk-serial::before {content: \"\";position: absolute;border-left: 1px solid gray;box-sizing: border-box;top: 0;bottom: 0;left: 50%;z-index: 0;}#sk-container-id-4 div.sk-serial {display: flex;flex-direction: column;align-items: center;background-color: white;padding-right: 0.2em;padding-left: 0.2em;position: relative;}#sk-container-id-4 div.sk-item {position: relative;z-index: 1;}#sk-container-id-4 div.sk-parallel {display: flex;align-items: stretch;justify-content: center;background-color: white;position: relative;}#sk-container-id-4 div.sk-item::before, #sk-container-id-4 div.sk-parallel-item::before {content: \"\";position: absolute;border-left: 1px solid gray;box-sizing: border-box;top: 0;bottom: 0;left: 50%;z-index: -1;}#sk-container-id-4 div.sk-parallel-item {display: flex;flex-direction: column;z-index: 1;position: relative;background-color: white;}#sk-container-id-4 div.sk-parallel-item:first-child::after {align-self: flex-end;width: 50%;}#sk-container-id-4 div.sk-parallel-item:last-child::after {align-self: flex-start;width: 50%;}#sk-container-id-4 div.sk-parallel-item:only-child::after {width: 0;}#sk-container-id-4 div.sk-dashed-wrapped {border: 1px dashed gray;margin: 0 0.4em 0.5em 0.4em;box-sizing: border-box;padding-bottom: 0.4em;background-color: white;}#sk-container-id-4 div.sk-label label {font-family: monospace;font-weight: bold;display: inline-block;line-height: 1.2em;}#sk-container-id-4 div.sk-label-container {text-align: center;}#sk-container-id-4 div.sk-container {/* jupyter's `normalize.less` sets `[hidden] { display: none; }` but bootstrap.min.css set `[hidden] { display: none !important; }` so we also need the `!important` here to be able to override the default hidden behavior on the sphinx rendered scikit-learn.org. See: https://github.com/scikit-learn/scikit-learn/issues/21755 */display: inline-block !important;position: relative;}#sk-container-id-4 div.sk-text-repr-fallback {display: none;}</style><div id=\"sk-container-id-4\" class=\"sk-top-container\"><div class=\"sk-text-repr-fallback\"><pre>LogisticRegression(max_iter=1000)</pre><b>In a Jupyter environment, please rerun this cell to show the HTML representation or trust the notebook. <br />On GitHub, the HTML representation is unable to render, please try loading this page with nbviewer.org.</b></div><div class=\"sk-container\" hidden><div class=\"sk-item\"><div class=\"sk-estimator sk-toggleable\"><input class=\"sk-toggleable__control sk-hidden--visually\" id=\"sk-estimator-id-4\" type=\"checkbox\" checked><label for=\"sk-estimator-id-4\" class=\"sk-toggleable__label sk-toggleable__label-arrow\">LogisticRegression</label><div class=\"sk-toggleable__content\"><pre>LogisticRegression(max_iter=1000)</pre></div></div></div></div></div>"
      ],
      "text/plain": [
       "LogisticRegression(max_iter=1000)"
      ]
     },
     "execution_count": 12,
     "metadata": {},
     "output_type": "execute_result"
    }
   ],
   "source": [
    "from sklearn.linear_model import LogisticRegression\n",
    "\n",
    "# object creation\n",
    "clf_log = LogisticRegression(max_iter=1000)\n",
    "\n",
    "#fitting the model for training in a NB\n",
    "clf_log.fit(x_train_vectors,y_train)"
   ]
  },
  {
   "cell_type": "code",
   "execution_count": 13,
   "id": "fa333e49-125e-4bce-81bf-fc0c8f498647",
   "metadata": {},
   "outputs": [
    {
     "name": "stdout",
     "output_type": "stream",
     "text": [
      "If you ever wondered why people are possessed with mountaim climbing Andy Kirkpatrick's book will help you understand. Andy explores his inner self with a discerning eye toward answering the &#34;why do I do it&#34; question. This memoir is well written and properly edited and is a worthwhile read. He brings the reader along with him on a number of interesting journeys. Highly recommended \n",
      " True Label = POSITIVE\n",
      "\n",
      " Predicted Label =  ['POSITIVE'] \n",
      "\n",
      "\n",
      "All you ever wanted to know about surrendering yourself to someone else. This is not a new world for some. \n",
      " True Label = POSITIVE\n",
      "\n",
      " Predicted Label =  ['NEGATIVE']\n"
     ]
    }
   ],
   "source": [
    "# Prediction testing on a random vector\n",
    "print(x_test[35],'\\n',\"True Label =\",y_test[35])\n",
    "print(\"\\n Predicted Label = \",clf_svm.predict(x_test_vectors[35]),'\\n\\n')\n",
    "\n",
    "print(x_test[99],'\\n',\"True Label =\",y_test[99])\n",
    "print(\"\\n Predicted Label = \",clf_svm.predict(x_test_vectors[99]))"
   ]
  },
  {
   "cell_type": "markdown",
   "id": "e947f40f-5ebb-4f37-906a-c1b520a07684",
   "metadata": {},
   "source": [
    "## **Evaluation**"
   ]
  },
  {
   "cell_type": "code",
   "execution_count": 14,
   "id": "831e8fcc-2441-40b2-8b61-de84add5b674",
   "metadata": {},
   "outputs": [
    {
     "name": "stdout",
     "output_type": "stream",
     "text": [
      "Mean Accuracy:\n",
      "\n",
      "Support Vector Machine score =  0.8197115384615384 \n",
      "\n",
      "Decision Tree score =  0.6370192307692307 \n",
      "\n",
      "Naive Bayes score =  0.6610576923076923 \n",
      "\n",
      "Logistic regression score =  0.8052884615384616 \n",
      "\n"
     ]
    }
   ],
   "source": [
    "# Mean accuracy on the given test data and labels\n",
    "print(\"Mean Accuracy:\\n\")\n",
    "print(\"Support Vector Machine score = \",clf_svm.score(x_test_vectors,y_test),'\\n')\n",
    "print(\"Decision Tree score = \",clf_dec.score(x_test_vectors,y_test),'\\n')\n",
    "print(\"Naive Bayes score = \",clf_nb.score(x_test_vectors_dense,y_test),'\\n')\n",
    "print(\"Logistic regression score = \",clf_log.score(x_test_vectors,y_test),'\\n')"
   ]
  },
  {
   "cell_type": "code",
   "execution_count": 15,
   "id": "7f2ea80f-eed3-4377-ba7f-11bde28e4424",
   "metadata": {},
   "outputs": [
    {
     "name": "stdout",
     "output_type": "stream",
     "text": [
      "Support Vector Machine F1 score =  [0.82269504 0.81662592] \n",
      "\n",
      "Decision Tree F1 score =  [0.63961814 0.63438257] \n",
      "\n",
      "Naive Bayes F1 score =  [0.65693431 0.66508314] \n",
      "\n",
      "Logistic regression F1 score =  [0.80291971 0.80760095] \n",
      "\n"
     ]
    }
   ],
   "source": [
    "# F1 Scores:\n",
    "from sklearn.metrics import f1_score\n",
    "print(\"Support Vector Machine F1 score = \",f1_score(y_test,clf_svm.predict(x_test_vectors),average=None,labels=[Sentiment.POSITIVE,Sentiment.NEGATIVE]),'\\n')\n",
    "print(\"Decision Tree F1 score = \",f1_score(y_test,clf_dec.predict(x_test_vectors),average=None,labels=[Sentiment.POSITIVE,Sentiment.NEGATIVE]),'\\n')\n",
    "print(\"Naive Bayes F1 score = \",f1_score(y_test,clf_nb.predict(x_test_vectors_dense),average=None,labels=[Sentiment.POSITIVE,Sentiment.NEGATIVE]),'\\n')\n",
    "print(\"Logistic regression F1 score = \",f1_score(y_test,clf_log.predict(x_test_vectors),average=None,labels=[Sentiment.POSITIVE,Sentiment.NEGATIVE]),'\\n')"
   ]
  },
  {
   "cell_type": "markdown",
   "id": "787c8801-4701-4893-9a4a-9ba5ad8c6aca",
   "metadata": {},
   "source": [
    "### Optimization using GridSearch (cross validation)"
   ]
  },
  {
   "cell_type": "code",
   "execution_count": 16,
   "id": "c7e0efb3-1ef3-48e9-b5b2-14bd2112b582",
   "metadata": {},
   "outputs": [
    {
     "name": "stdout",
     "output_type": "stream",
     "text": [
      "0.8197115384615384\n"
     ]
    }
   ],
   "source": [
    "from sklearn.model_selection import GridSearchCV\n",
    "abc_svc=svm.SVC(kernel='rbf',C=4.0)\n",
    "abc_svc.fit(x_train_vectors,y_train)\n",
    "\n",
    "print(abc_svc.score(x_test_vectors,y_test))"
   ]
  },
  {
   "cell_type": "code",
   "execution_count": 31,
   "id": "1a90929c-46f6-472e-9001-00260f346530",
   "metadata": {},
   "outputs": [
    {
     "name": "stdout",
     "output_type": "stream",
     "text": [
      "For kernel linear\n",
      "Accuracy is:  0.8052884615384616\n",
      "For kernel rbf\n",
      "Accuracy is:  0.8197115384615384\n",
      "For kernel poly\n",
      "Accuracy is:  0.7716346153846154\n"
     ]
    }
   ],
   "source": [
    "kernel=['linear','rbf','poly']\n",
    "for i in kernel:\n",
    "    model=svm.SVC(kernel=i,C=4.0)\n",
    "    model.fit(x_train_vectors,y_train)\n",
    "    print('For kernel',i)\n",
    "    print(\"Accuracy is: \",model.score(x_test_vectors,y_test))"
   ]
  },
  {
   "cell_type": "code",
   "execution_count": 36,
   "id": "2fda77f1-86fc-4659-87e8-f849e4916137",
   "metadata": {},
   "outputs": [
    {
     "name": "stdout",
     "output_type": "stream",
     "text": [
      "Accuracy on training data:  0.5\n",
      "Accuracy on testing data:  0.5\n",
      "Accuracy on training data:  1.0\n",
      "Accuracy on testing data:  0.8028846153846154\n",
      "Accuracy on training data:  1.0\n",
      "Accuracy on testing data:  0.8197115384615384\n",
      "Accuracy on training data:  1.0\n",
      "Accuracy on testing data:  0.7716346153846154\n",
      "Accuracy on training data:  1.0\n",
      "Accuracy on testing data:  0.7067307692307693\n",
      "Accuracy on training data:  1.0\n",
      "Accuracy on testing data:  0.6658653846153846\n",
      "Accuracy on training data:  1.0\n",
      "Accuracy on testing data:  0.6514423076923077\n",
      "Accuracy on training data:  1.0\n",
      "Accuracy on testing data:  0.6298076923076923\n",
      "Accuracy on training data:  1.0\n",
      "Accuracy on testing data:  0.6201923076923077\n",
      "Accuracy on training data:  1.0\n",
      "Accuracy on testing data:  0.6201923076923077\n"
     ]
    }
   ],
   "source": [
    "import pandas as pd\n",
    "for i in range(0,10):\n",
    "    model=svm.SVC(kernel='poly',degree=i,C=100,)\n",
    "    model.fit(x_train_vectors,y_train)\n",
    "    print(\"Accuracy on training data: \",model.score(x_train_vectors,y_train))\n",
    "    print(\"Accuracy on testing data: \",model.score(x_test_vectors,y_test))\n",
    "    "
   ]
  },
  {
   "cell_type": "markdown",
   "id": "7a2f8ba6-27d8-40a3-9550-357703aa0228",
   "metadata": {},
   "source": [
    "## **Qualitative Testing** "
   ]
  },
  {
   "cell_type": "code",
   "execution_count": 17,
   "id": "bb9d5586-0571-469c-bc9f-c7115a6c3146",
   "metadata": {},
   "outputs": [
    {
     "name": "stdout",
     "output_type": "stream",
     "text": [
      "['NEGATIVE']\n"
     ]
    }
   ],
   "source": [
    "test_review=[\"Such a boring read,couldn't finish!!\"]\n",
    "new_test=vectorizer.transform(test_review)\n",
    "print(clf_svm.predict(new_test))"
   ]
  },
  {
   "cell_type": "code",
   "execution_count": 18,
   "id": "8015e62f-827f-4173-9f76-c09dd4398e8f",
   "metadata": {},
   "outputs": [
    {
     "name": "stdout",
     "output_type": "stream",
     "text": [
      "['POSITIVE']\n"
     ]
    }
   ],
   "source": [
    "test_review=[\"Had an amazing experience reading this thrilling book!!\"]\n",
    "new_test=vectorizer.transform(test_review)\n",
    "print(clf_svm.predict(new_test))"
   ]
  },
  {
   "cell_type": "code",
   "execution_count": 19,
   "id": "917d17a5-6d2d-4a96-ae20-ed16bc8720fb",
   "metadata": {},
   "outputs": [
    {
     "name": "stdout",
     "output_type": "stream",
     "text": [
      "['NEGATIVE']\n"
     ]
    }
   ],
   "source": [
    "test_review=[\"What the hell was that!!\"]\n",
    "new_test=vectorizer.transform(test_review)\n",
    "print(clf_svm.predict(new_test))"
   ]
  },
  {
   "cell_type": "code",
   "execution_count": 20,
   "id": "f045150d-6527-4d61-b3b0-a4513182b8cc",
   "metadata": {},
   "outputs": [
    {
     "name": "stdout",
     "output_type": "stream",
     "text": [
      "['POSITIVE']\n"
     ]
    }
   ],
   "source": [
    "test_review=[\" This is wonderful book, inspiring and wise. My uncle was taken by the Nazis and was almost dead due to typhus when the camp at Dachau was liberated. He was discovered in a heap of bodies by a doctor who noticed a flicker of his eyelids. He was taken to hospital in Budapest and survived until 1967. This book gave me an insight into what he must have suffered. He never complained was always cheerful and full of mischief. The second half of the book about logotherapy is also very interesting and worth reading. \"]\n",
    "new_test=vectorizer.transform(test_review)\n",
    "print(clf_svm.predict(new_test))"
   ]
  },
  {
   "cell_type": "code",
   "execution_count": 21,
   "id": "ee830695-c7fc-4a7e-aeb2-3e7af55f419f",
   "metadata": {},
   "outputs": [
    {
     "name": "stdout",
     "output_type": "stream",
     "text": [
      "['NEGATIVE']\n"
     ]
    }
   ],
   "source": [
    "test_review=['Too many technical terms in physchology domain makes reading very uncomfortable. Not much of a self help book as tagged.']\n",
    "new_test=vectorizer.transform(test_review)\n",
    "print(clf_svm.predict(new_test))"
   ]
  },
  {
   "cell_type": "markdown",
   "id": "ac1d54c6-53d3-46df-b261-ea55221bdeaa",
   "metadata": {},
   "source": [
    "## Saving Model"
   ]
  },
  {
   "cell_type": "code",
   "execution_count": 22,
   "id": "cf43a1b9-5325-4cd9-9361-4f361435cc16",
   "metadata": {},
   "outputs": [],
   "source": [
    "import pickle\n",
    "\n",
    "with open('./models/sentiment_class_svm.pkl', 'wb') as f:\n",
    "    pickle.dump(clf_svm, f)\n",
    "    \n",
    "with open('./models/sentiment_class_svm_vectorizer.pkl', 'wb') as f:\n",
    "    pickle.dump(vectorizer, f)"
   ]
  },
  {
   "cell_type": "markdown",
   "id": "a16a4093-b144-4c6b-b146-0236c064c02c",
   "metadata": {},
   "source": [
    "# **Thank You 😄**"
   ]
  },
  {
   "cell_type": "code",
   "execution_count": null,
   "id": "20d9c79c-80cc-41fb-add4-b6901cd34731",
   "metadata": {},
   "outputs": [],
   "source": []
  },
  {
   "cell_type": "code",
   "execution_count": null,
   "id": "3c3dc896-4d76-49d8-b7dd-8fee89fe79e7",
   "metadata": {},
   "outputs": [],
   "source": []
  },
  {
   "cell_type": "code",
   "execution_count": null,
   "id": "163587d4-da58-4ed7-9bbf-121117b08476",
   "metadata": {},
   "outputs": [],
   "source": []
  },
  {
   "cell_type": "code",
   "execution_count": null,
   "id": "34fa28ca-d0ba-4c07-ae9c-53a01ce3054f",
   "metadata": {},
   "outputs": [],
   "source": []
  }
 ],
 "metadata": {
  "kernelspec": {
   "display_name": "Python 3",
   "language": "python",
   "name": "python3"
  },
  "language_info": {
   "codemirror_mode": {
    "name": "ipython",
    "version": 3
   },
   "file_extension": ".py",
   "mimetype": "text/x-python",
   "name": "python",
   "nbconvert_exporter": "python",
   "pygments_lexer": "ipython3",
   "version": "3.10.9"
  }
 },
 "nbformat": 4,
 "nbformat_minor": 5
}
