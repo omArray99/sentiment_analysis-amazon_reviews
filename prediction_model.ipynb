{
 "cells": [
  {
   "cell_type": "code",
   "execution_count": 1,
   "id": "819c7f91-f89e-4907-b9dd-21612d290a55",
   "metadata": {},
   "outputs": [],
   "source": [
    "import pickle \n",
    "\n",
    "with open('./models/sentiment_class_svm.pkl', 'rb') as f:\n",
    "    clf_svm = pickle.load(f)\n",
    "\n",
    "with open('./models/sentiment_class_svm_vectorizer.pkl', 'rb') as f:\n",
    "    vectorizer = pickle.load(f)\n",
    "    "
   ]
  },
  {
   "cell_type": "code",
   "execution_count": 2,
   "id": "79c3ff8f-9dd3-48e2-8cae-a884ba7d5b27",
   "metadata": {},
   "outputs": [
    {
     "name": "stdout",
     "output_type": "stream",
     "text": [
      "['POSITIVE']\n"
     ]
    }
   ],
   "source": [
    "test_1=[\"This cover is just so pretty, I'm obsessed. I've only heard good things about this book and am very excited to finally get my hands on this beautiful edition. It has over 720 pages. I read the first few pages and I can already say that it's going to be a ride that I'm happily willing to take.\"]\n",
    "test_1_vect=vectorizer.transform(test_1)\n",
    "print(clf_svm.predict(test_1_vect))"
   ]
  },
  {
   "cell_type": "code",
   "execution_count": 3,
   "id": "cbde9fb2-a991-41ab-b91e-bb90ad939397",
   "metadata": {},
   "outputs": [
    {
     "name": "stdout",
     "output_type": "stream",
     "text": [
      "['NEGATIVE']\n"
     ]
    }
   ],
   "source": [
    "test_2=[\"This review is for the product only. Font size is too small. How can we read such a long novel with small font. Publisher should consider this concerns. I thought penguin books will be good but when I received the product I was highly disappointed with the font size. It’s total waste of money, we will end up with eye strain after reading this.\"]\n",
    "test_2_vect=vectorizer.transform(test_2)\n",
    "print(clf_svm.predict(test_2_vect))"
   ]
  },
  {
   "cell_type": "code",
   "execution_count": 4,
   "id": "04ed46a8-2553-4c75-a77d-f45337500788",
   "metadata": {},
   "outputs": [
    {
     "name": "stdout",
     "output_type": "stream",
     "text": [
      "['NEGATIVE']\n"
     ]
    }
   ],
   "source": [
    "test_3=[\" Block Structure: C is not a block Structured language like Pascal. This how the authors explains every definition in this book. This is not a first book, it's a book for this who have been doing Pascal programing and then moving to C. NOT for beginners! It's a TEXT book for school students from 1980.The writer is an awful author 😞\"]\n",
    "test_3_vect=vectorizer.transform(test_3)\n",
    "print(clf_svm.predict(test_3_vect))"
   ]
  },
  {
   "cell_type": "code",
   "execution_count": 6,
   "id": "4f89ceb9-f28c-4b5b-ba93-a8fe49461326",
   "metadata": {},
   "outputs": [
    {
     "name": "stdout",
     "output_type": "stream",
     "text": [
      "['NEGATIVE']\n"
     ]
    }
   ],
   "source": [
    "test_4=[\"Book is very good and covers all concepts but if you are a beginner, you might not wanna go with this one.To use this book you must require some basic knowledge of the language because it contains some words that you might not understand at your first try... Otherwise book is good\" ]\n",
    "test_4_vect=vectorizer.transform(test_4)\n",
    "print(clf_svm.predict(test_4_vect))"
   ]
  },
  {
   "cell_type": "code",
   "execution_count": null,
   "id": "d4ed9f92-e8ea-4212-b54a-a83d0ae1ce1a",
   "metadata": {},
   "outputs": [],
   "source": []
  },
  {
   "cell_type": "code",
   "execution_count": null,
   "id": "564586ec-013d-4a3d-b830-23ffc0c038b1",
   "metadata": {},
   "outputs": [],
   "source": []
  },
  {
   "cell_type": "code",
   "execution_count": null,
   "id": "5b3e68db-81fa-428d-9d55-57211b46b029",
   "metadata": {},
   "outputs": [],
   "source": []
  },
  {
   "cell_type": "code",
   "execution_count": null,
   "id": "0aa1d4cb-3d33-494d-a3c2-859a09e6fb96",
   "metadata": {},
   "outputs": [],
   "source": []
  },
  {
   "cell_type": "code",
   "execution_count": null,
   "id": "670b6be6-46b3-43fc-b048-2845c2416d8b",
   "metadata": {},
   "outputs": [],
   "source": []
  },
  {
   "cell_type": "code",
   "execution_count": null,
   "id": "d5b9405c-0a7f-42cd-bc8b-37d44c7368e2",
   "metadata": {},
   "outputs": [],
   "source": []
  }
 ],
 "metadata": {
  "kernelspec": {
   "display_name": "Python 3",
   "language": "python",
   "name": "python3"
  },
  "language_info": {
   "codemirror_mode": {
    "name": "ipython",
    "version": 3
   },
   "file_extension": ".py",
   "mimetype": "text/x-python",
   "name": "python",
   "nbconvert_exporter": "python",
   "pygments_lexer": "ipython3",
   "version": "3.10.9"
  }
 },
 "nbformat": 4,
 "nbformat_minor": 5
}
