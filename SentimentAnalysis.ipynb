{
 "cells": [
  {
   "cell_type": "markdown",
   "id": "36b49256-f118-4efb-afd9-fa98b1bac618",
   "metadata": {
    "tags": []
   },
   "source": [
    "### In this, we create a model that automatically classifies text as having a positive or negative sentiment.Also it identifies/classifies what the product type is from the input text.\n",
    "#### We accomplish this by using Amazon reviews as training data.\n",
    "#### Models trained: Support Vector Machines(SVM), Decision Trees, Naive Bayes Classifier, Logistic Regression</big>\n",
    "\n",
    "#### <em>A project by Om Parghale</em>"
   ]
  },
  {
   "cell_type": "markdown",
   "id": "6177f58b-e068-4bfa-b56f-64d1f69356cd",
   "metadata": {},
   "source": [
    "## **Load In Data**"
   ]
  },
  {
   "cell_type": "markdown",
   "id": "7711af4e-9bf8-484a-9306-9d3a599defeb",
   "metadata": {},
   "source": [
    "### Data Class"
   ]
  },
  {
   "cell_type": "code",
   "execution_count": 1,
   "id": "c5ea4416-8ee4-47b9-b41a-ecf789b7f090",
   "metadata": {},
   "outputs": [],
   "source": [
    "import random\n",
    "\n",
    "class Sentiment:\n",
    "    NEGATIVE=\"NEGATIVE\"\n",
    "    POSITIVE=\"POSITIVE\"\n",
    "    NEUTRAL=\"NEUTRAL\"\n",
    "    \n",
    "\n",
    "class Review:\n",
    "    def __init__(self,text,score):\n",
    "        self.text=text\n",
    "        self.score=score\n",
    "        self.sentiment=self.get_sentiment()\n",
    "        \n",
    "    def get_sentiment(self):\n",
    "        if self.score<=2:\n",
    "            return Sentiment.NEGATIVE\n",
    "        elif self.score==3:\n",
    "            return Sentiment.NEUTRAL\n",
    "        else: #Score of 4 or 5\n",
    "            return Sentiment.POSITIVE\n",
    "        \n",
    "class ReviewContainer:\n",
    "    def __init__(self,reviews):\n",
    "        self.reviews=reviews\n",
    "        \n",
    "    def get_text(self):\n",
    "        return [x.text for x in self.reviews]\n",
    "    \n",
    "    def get_sentiment(self):\n",
    "        return [x.sentiment for x in self.reviews]\n",
    "        \n",
    "    def evenly_distributed(self):\n",
    "        negative = list(filter(lambda x: x.sentiment==Sentiment.NEGATIVE,self.reviews))\n",
    "        positive = list(filter(lambda x: x.sentiment==Sentiment.POSITIVE,self.reviews))\n",
    "        #neutral = list(filter(lambda x: x.sentiment==Sentiment.NEUTRAL,self.reviews))\n",
    "        \n",
    "        positive_shrunk=positive[:len(negative)]\n",
    "        # neutral_shrunk=neutral[:len(negative)]\n",
    "        # self.reviews=negative+positive_shrunk+neutral_shrunk\n",
    "        self.reviews=negative+positive_shrunk\n",
    "        random.shuffle(self.reviews)\n",
    "        # print(negative[0].text)\n",
    "        # print(len(negative))\n",
    "        # print(len(neutral))\n",
    "        # print(len(positive))\n",
    "        \n",
    "        "
   ]
  },
  {
   "cell_type": "markdown",
   "id": "45cae5ab-3877-42e0-a4d5-c99cfd28342f",
   "metadata": {},
   "source": [
    "### Load in Data"
   ]
  },
  {
   "cell_type": "code",
   "execution_count": 2,
   "id": "2f0d4d62-58ab-4b60-b3f6-5c2b8dac70d0",
   "metadata": {},
   "outputs": [
    {
     "data": {
      "text/plain": [
       "(\"My only complaint about this book is that it is much too short. I love this author and this series, and I can't wait for the next installment.\",\n",
       " 'POSITIVE')"
      ]
     },
     "execution_count": 2,
     "metadata": {},
     "output_type": "execute_result"
    }
   ],
   "source": [
    "import json\n",
    "import numpy as np\n",
    "\n",
    "reviews=[]\n",
    "with open('Books_small_10000.json') as f:\n",
    "    for line in f:\n",
    "        review=json.loads(line)\n",
    "        reviews.append(Review(review['reviewText'],review['overall']))\n",
    "        \n",
    "reviews[10].text,reviews[10].sentiment"
   ]
  },
  {
   "cell_type": "markdown",
   "id": "3ec2e605-ed38-411d-8a0f-fa873e75c5db",
   "metadata": {},
   "source": [
    "## **Data Prep**"
   ]
  },
  {
   "cell_type": "markdown",
   "id": "f76e16cd-e2f3-4e1e-9b87-a7c5e18d94c4",
   "metadata": {},
   "source": [
    "### Splitting the data for training and testing"
   ]
  },
  {
   "cell_type": "code",
   "execution_count": 3,
   "id": "831c71bb-c46c-40ec-9e19-1805307c3e45",
   "metadata": {},
   "outputs": [],
   "source": [
    "from sklearn.model_selection import train_test_split\n",
    "\n",
    "training,testing=train_test_split(reviews,test_size=0.33,random_state=42)\n",
    "\n",
    "train_container = ReviewContainer(training)\n",
    "test_container = ReviewContainer(testing)\n"
   ]
  },
  {
   "cell_type": "code",
   "execution_count": 4,
   "id": "cec9fad4-005a-41ae-83be-9d7640ed9ebd",
   "metadata": {},
   "outputs": [
    {
     "name": "stdout",
     "output_type": "stream",
     "text": [
      "436\n",
      "436\n"
     ]
    }
   ],
   "source": [
    "train_container.evenly_distributed()\n",
    "x_train=train_container.get_text()\n",
    "y_train=train_container.get_sentiment()\n",
    "\n",
    "test_container.evenly_distributed()\n",
    "x_test=test_container.get_text()\n",
    "y_test=test_container.get_sentiment()\n",
    "\n",
    "print(y_train.count(Sentiment.POSITIVE))\n",
    "print(y_train.count(Sentiment.NEGATIVE))"
   ]
  },
  {
   "cell_type": "markdown",
   "id": "d14b8510-ee16-4ce7-9515-e81819490cbb",
   "metadata": {},
   "source": [
    "### TFIDF Vectorization"
   ]
  },
  {
   "cell_type": "code",
   "execution_count": 5,
   "id": "087a8811-088f-4645-ac5d-374aa5f2a307",
   "metadata": {},
   "outputs": [],
   "source": [
    "from sklearn.feature_extraction.text import TfidfVectorizer\n",
    "\n",
    "vectorizer = TfidfVectorizer()\n",
    "x_train_vectors=vectorizer.fit_transform(x_train)\n",
    "x_test_vectors=vectorizer.transform(x_test)"
   ]
  },
  {
   "cell_type": "markdown",
   "id": "61f0c1b4-5c1a-4666-a17a-c986fa6cad1b",
   "metadata": {},
   "source": [
    "## Classification"
   ]
  },
  {
   "cell_type": "markdown",
   "id": "12167f64-ef73-49b0-811d-c9b9622da532",
   "metadata": {},
   "source": [
    "### Support Vector Machines"
   ]
  },
  {
   "cell_type": "code",
   "execution_count": 6,
   "id": "277533ce-f624-4b29-8c43-9347be5fa6f2",
   "metadata": {},
   "outputs": [
    {
     "data": {
      "text/html": [
       "<style>#sk-container-id-1 {color: black;background-color: white;}#sk-container-id-1 pre{padding: 0;}#sk-container-id-1 div.sk-toggleable {background-color: white;}#sk-container-id-1 label.sk-toggleable__label {cursor: pointer;display: block;width: 100%;margin-bottom: 0;padding: 0.3em;box-sizing: border-box;text-align: center;}#sk-container-id-1 label.sk-toggleable__label-arrow:before {content: \"▸\";float: left;margin-right: 0.25em;color: #696969;}#sk-container-id-1 label.sk-toggleable__label-arrow:hover:before {color: black;}#sk-container-id-1 div.sk-estimator:hover label.sk-toggleable__label-arrow:before {color: black;}#sk-container-id-1 div.sk-toggleable__content {max-height: 0;max-width: 0;overflow: hidden;text-align: left;background-color: #f0f8ff;}#sk-container-id-1 div.sk-toggleable__content pre {margin: 0.2em;color: black;border-radius: 0.25em;background-color: #f0f8ff;}#sk-container-id-1 input.sk-toggleable__control:checked~div.sk-toggleable__content {max-height: 200px;max-width: 100%;overflow: auto;}#sk-container-id-1 input.sk-toggleable__control:checked~label.sk-toggleable__label-arrow:before {content: \"▾\";}#sk-container-id-1 div.sk-estimator input.sk-toggleable__control:checked~label.sk-toggleable__label {background-color: #d4ebff;}#sk-container-id-1 div.sk-label input.sk-toggleable__control:checked~label.sk-toggleable__label {background-color: #d4ebff;}#sk-container-id-1 input.sk-hidden--visually {border: 0;clip: rect(1px 1px 1px 1px);clip: rect(1px, 1px, 1px, 1px);height: 1px;margin: -1px;overflow: hidden;padding: 0;position: absolute;width: 1px;}#sk-container-id-1 div.sk-estimator {font-family: monospace;background-color: #f0f8ff;border: 1px dotted black;border-radius: 0.25em;box-sizing: border-box;margin-bottom: 0.5em;}#sk-container-id-1 div.sk-estimator:hover {background-color: #d4ebff;}#sk-container-id-1 div.sk-parallel-item::after {content: \"\";width: 100%;border-bottom: 1px solid gray;flex-grow: 1;}#sk-container-id-1 div.sk-label:hover label.sk-toggleable__label {background-color: #d4ebff;}#sk-container-id-1 div.sk-serial::before {content: \"\";position: absolute;border-left: 1px solid gray;box-sizing: border-box;top: 0;bottom: 0;left: 50%;z-index: 0;}#sk-container-id-1 div.sk-serial {display: flex;flex-direction: column;align-items: center;background-color: white;padding-right: 0.2em;padding-left: 0.2em;position: relative;}#sk-container-id-1 div.sk-item {position: relative;z-index: 1;}#sk-container-id-1 div.sk-parallel {display: flex;align-items: stretch;justify-content: center;background-color: white;position: relative;}#sk-container-id-1 div.sk-item::before, #sk-container-id-1 div.sk-parallel-item::before {content: \"\";position: absolute;border-left: 1px solid gray;box-sizing: border-box;top: 0;bottom: 0;left: 50%;z-index: -1;}#sk-container-id-1 div.sk-parallel-item {display: flex;flex-direction: column;z-index: 1;position: relative;background-color: white;}#sk-container-id-1 div.sk-parallel-item:first-child::after {align-self: flex-end;width: 50%;}#sk-container-id-1 div.sk-parallel-item:last-child::after {align-self: flex-start;width: 50%;}#sk-container-id-1 div.sk-parallel-item:only-child::after {width: 0;}#sk-container-id-1 div.sk-dashed-wrapped {border: 1px dashed gray;margin: 0 0.4em 0.5em 0.4em;box-sizing: border-box;padding-bottom: 0.4em;background-color: white;}#sk-container-id-1 div.sk-label label {font-family: monospace;font-weight: bold;display: inline-block;line-height: 1.2em;}#sk-container-id-1 div.sk-label-container {text-align: center;}#sk-container-id-1 div.sk-container {/* jupyter's `normalize.less` sets `[hidden] { display: none; }` but bootstrap.min.css set `[hidden] { display: none !important; }` so we also need the `!important` here to be able to override the default hidden behavior on the sphinx rendered scikit-learn.org. See: https://github.com/scikit-learn/scikit-learn/issues/21755 */display: inline-block !important;position: relative;}#sk-container-id-1 div.sk-text-repr-fallback {display: none;}</style><div id=\"sk-container-id-1\" class=\"sk-top-container\"><div class=\"sk-text-repr-fallback\"><pre>SVC(C=128.0)</pre><b>In a Jupyter environment, please rerun this cell to show the HTML representation or trust the notebook. <br />On GitHub, the HTML representation is unable to render, please try loading this page with nbviewer.org.</b></div><div class=\"sk-container\" hidden><div class=\"sk-item\"><div class=\"sk-estimator sk-toggleable\"><input class=\"sk-toggleable__control sk-hidden--visually\" id=\"sk-estimator-id-1\" type=\"checkbox\" checked><label for=\"sk-estimator-id-1\" class=\"sk-toggleable__label sk-toggleable__label-arrow\">SVC</label><div class=\"sk-toggleable__content\"><pre>SVC(C=128.0)</pre></div></div></div></div></div>"
      ],
      "text/plain": [
       "SVC(C=128.0)"
      ]
     },
     "execution_count": 6,
     "metadata": {},
     "output_type": "execute_result"
    }
   ],
   "source": [
    "from sklearn import svm\n",
    "\n",
    "# object creation\n",
    "clf_svm=svm.SVC(kernel='rbf',C=128.0)\n",
    "# fitting the model for training in a svm\n",
    "clf_svm.fit(x_train_vectors,y_train)\n",
    "\n",
    "#prediction testing on first vector\n"
   ]
  },
  {
   "cell_type": "code",
   "execution_count": 7,
   "id": "065e1e08-6d26-4a4e-be2a-12e2b645deb5",
   "metadata": {},
   "outputs": [
    {
     "name": "stdout",
     "output_type": "stream",
     "text": [
      "Sweet Southern Betrayal is the third book in author Robin Covington&#8217;s The Boys Are Back in Town Series and oh my, these boys can back into my town any time they&#8217;d like!  I adored this book!Successful attorney Teague Elliot has the world in the palm of his hand.  He&#8217;s just about to land the title of youngest partner in his uber successful Washington D.C. law firm and he couldn&#8217;t be happier.  Of course, this is just another stepping stone in his plan to enter the world of politics.  He&#8217;s also managed to keep his nose clean and the skeletons out of his closet his entire life in prep to take The Oval Office one day.  This brings us to the present&#8230;when he heads to Las Vegas with his friends and ends up in bed with a Vegas showgirl and absolutely no memory of why she&#8217;s here.  Or what he may have done the night before.  Will &#8220;what happens in Vegas&#8221; actually stay in Vegas?  Never has Teague needed it that saying to be more true than right now&#8230;.You could say that Risa Clay has taken the lemons life has handed her and made them into lemonade.  She didn&#8217;t have an easy childhood but has managed to make a pretty good life as a Las Vegas Showgirl and can&#8217;t really complain.  She certainly can&#8217;t complain when she wakes up to a sexy stranger after an unforgettable night.  But that&#8217;s just what she&#8217;d have to do&#8230;forget him.  Her best friend was in trouble and she had done last night as payment to her boss for borrowing money to help her best friend kick a nasty drug habit.  A shame, really, because this sexy stranger was positively delicious and they had an undeniable chemistry.  It&#8217;s this chemistry that prevents her from doing the last part of the payment for her boss and sends her fleeing Vegas&#8230;and showing up on her handsome one-night stand&#8217;s doorstep.So I&#8217;ll say it again&#8230;.these boys can come back to my town any time they&#8217;d like.  This book started out with a kick and just kept getting better with each chapter.  I couldn&#8217;t put it down!  Teague is straight laced, buckled up and not one to forget his end goal: The White House.  He&#8217;s worked hard and has dotted every &#8220;i&#8221; and crossed every &#8220;t&#8221; knowing full well that he didn&#8217;t want to deal with the hassle of a shady past.  Well, you know what they say about the best-laid plans.  Risa is exactly his opposite, a girl with a messy past and just living in the moment.  And this brings me to another saying: opposites attract! Fate has slammed these two together and never before has she gotten it more right.  Risa and Teague are so amazing together.  The push and pull between them is practically tangible, the chemistry between them palpable.  They&#8217;ve got quite a mess on their hands and fixing it proves to push them both to the limit, testing all emotions and crossing all sorts of lines. Did I mention I loved this book? Well, I did.  A lot.  Also, I have to mention that Robin writes some of the most amazing smexy scenes that I&#8217;ve ever read&#8230;.and I&#8217;ve read a whole lot of them.  There&#8217;s just something about her writing that gives her characters a little dash of more and it makes all the difference in adding to the heat factor!If you haven&#8217;t read the other books in the series, no worries, you can totally read this book as a stand-alone.  Of course, I absolutely recommend you do, well, if for no other reason than Robin writes some phenomenal characters and you will enjoy each one!  Thank you, Robin, for Teague, Risa and another fab story! \n",
      " True Label = POSITIVE\n",
      "\n",
      " Predicted Label =  ['POSITIVE'] \n",
      "\n",
      "\n",
      "I was so happy so see Sally MacKenzie write another historical romance. I have all the books in this series and they are great, sincerely hope she keeps writing more of these or any historical romance. \n",
      " True Label = POSITIVE\n",
      "\n",
      " Predicted Label =  ['POSITIVE']\n"
     ]
    }
   ],
   "source": [
    "# Prediction testing on a random vector\n",
    "print(x_test[12],'\\n',\"True Label =\",y_test[12])\n",
    "print(\"\\n Predicted Label = \",clf_svm.predict(x_test_vectors[12]),'\\n\\n')\n",
    "\n",
    "print(x_test[54],'\\n',\"True Label =\",y_test[54])\n",
    "print(\"\\n Predicted Label = \",clf_svm.predict(x_test_vectors[54]))"
   ]
  },
  {
   "cell_type": "markdown",
   "id": "b1ed41cc-3e5d-4cca-825a-298fe5380d4f",
   "metadata": {},
   "source": [
    "### Decision Trees"
   ]
  },
  {
   "cell_type": "code",
   "execution_count": 8,
   "id": "9acccb4a-d821-40b6-9fa4-d72f56368db4",
   "metadata": {},
   "outputs": [
    {
     "data": {
      "text/html": [
       "<style>#sk-container-id-2 {color: black;background-color: white;}#sk-container-id-2 pre{padding: 0;}#sk-container-id-2 div.sk-toggleable {background-color: white;}#sk-container-id-2 label.sk-toggleable__label {cursor: pointer;display: block;width: 100%;margin-bottom: 0;padding: 0.3em;box-sizing: border-box;text-align: center;}#sk-container-id-2 label.sk-toggleable__label-arrow:before {content: \"▸\";float: left;margin-right: 0.25em;color: #696969;}#sk-container-id-2 label.sk-toggleable__label-arrow:hover:before {color: black;}#sk-container-id-2 div.sk-estimator:hover label.sk-toggleable__label-arrow:before {color: black;}#sk-container-id-2 div.sk-toggleable__content {max-height: 0;max-width: 0;overflow: hidden;text-align: left;background-color: #f0f8ff;}#sk-container-id-2 div.sk-toggleable__content pre {margin: 0.2em;color: black;border-radius: 0.25em;background-color: #f0f8ff;}#sk-container-id-2 input.sk-toggleable__control:checked~div.sk-toggleable__content {max-height: 200px;max-width: 100%;overflow: auto;}#sk-container-id-2 input.sk-toggleable__control:checked~label.sk-toggleable__label-arrow:before {content: \"▾\";}#sk-container-id-2 div.sk-estimator input.sk-toggleable__control:checked~label.sk-toggleable__label {background-color: #d4ebff;}#sk-container-id-2 div.sk-label input.sk-toggleable__control:checked~label.sk-toggleable__label {background-color: #d4ebff;}#sk-container-id-2 input.sk-hidden--visually {border: 0;clip: rect(1px 1px 1px 1px);clip: rect(1px, 1px, 1px, 1px);height: 1px;margin: -1px;overflow: hidden;padding: 0;position: absolute;width: 1px;}#sk-container-id-2 div.sk-estimator {font-family: monospace;background-color: #f0f8ff;border: 1px dotted black;border-radius: 0.25em;box-sizing: border-box;margin-bottom: 0.5em;}#sk-container-id-2 div.sk-estimator:hover {background-color: #d4ebff;}#sk-container-id-2 div.sk-parallel-item::after {content: \"\";width: 100%;border-bottom: 1px solid gray;flex-grow: 1;}#sk-container-id-2 div.sk-label:hover label.sk-toggleable__label {background-color: #d4ebff;}#sk-container-id-2 div.sk-serial::before {content: \"\";position: absolute;border-left: 1px solid gray;box-sizing: border-box;top: 0;bottom: 0;left: 50%;z-index: 0;}#sk-container-id-2 div.sk-serial {display: flex;flex-direction: column;align-items: center;background-color: white;padding-right: 0.2em;padding-left: 0.2em;position: relative;}#sk-container-id-2 div.sk-item {position: relative;z-index: 1;}#sk-container-id-2 div.sk-parallel {display: flex;align-items: stretch;justify-content: center;background-color: white;position: relative;}#sk-container-id-2 div.sk-item::before, #sk-container-id-2 div.sk-parallel-item::before {content: \"\";position: absolute;border-left: 1px solid gray;box-sizing: border-box;top: 0;bottom: 0;left: 50%;z-index: -1;}#sk-container-id-2 div.sk-parallel-item {display: flex;flex-direction: column;z-index: 1;position: relative;background-color: white;}#sk-container-id-2 div.sk-parallel-item:first-child::after {align-self: flex-end;width: 50%;}#sk-container-id-2 div.sk-parallel-item:last-child::after {align-self: flex-start;width: 50%;}#sk-container-id-2 div.sk-parallel-item:only-child::after {width: 0;}#sk-container-id-2 div.sk-dashed-wrapped {border: 1px dashed gray;margin: 0 0.4em 0.5em 0.4em;box-sizing: border-box;padding-bottom: 0.4em;background-color: white;}#sk-container-id-2 div.sk-label label {font-family: monospace;font-weight: bold;display: inline-block;line-height: 1.2em;}#sk-container-id-2 div.sk-label-container {text-align: center;}#sk-container-id-2 div.sk-container {/* jupyter's `normalize.less` sets `[hidden] { display: none; }` but bootstrap.min.css set `[hidden] { display: none !important; }` so we also need the `!important` here to be able to override the default hidden behavior on the sphinx rendered scikit-learn.org. See: https://github.com/scikit-learn/scikit-learn/issues/21755 */display: inline-block !important;position: relative;}#sk-container-id-2 div.sk-text-repr-fallback {display: none;}</style><div id=\"sk-container-id-2\" class=\"sk-top-container\"><div class=\"sk-text-repr-fallback\"><pre>DecisionTreeClassifier()</pre><b>In a Jupyter environment, please rerun this cell to show the HTML representation or trust the notebook. <br />On GitHub, the HTML representation is unable to render, please try loading this page with nbviewer.org.</b></div><div class=\"sk-container\" hidden><div class=\"sk-item\"><div class=\"sk-estimator sk-toggleable\"><input class=\"sk-toggleable__control sk-hidden--visually\" id=\"sk-estimator-id-2\" type=\"checkbox\" checked><label for=\"sk-estimator-id-2\" class=\"sk-toggleable__label sk-toggleable__label-arrow\">DecisionTreeClassifier</label><div class=\"sk-toggleable__content\"><pre>DecisionTreeClassifier()</pre></div></div></div></div></div>"
      ],
      "text/plain": [
       "DecisionTreeClassifier()"
      ]
     },
     "execution_count": 8,
     "metadata": {},
     "output_type": "execute_result"
    }
   ],
   "source": [
    "from sklearn.tree import DecisionTreeClassifier\n",
    "\n",
    "#object creation\n",
    "clf_dec = DecisionTreeClassifier()\n",
    "#fitting the model for training in a DecTree\n",
    "clf_dec.fit(x_train_vectors,y_train)"
   ]
  },
  {
   "cell_type": "code",
   "execution_count": 9,
   "id": "6196f323-ce20-41d3-80e3-e9a3e5b3a166",
   "metadata": {},
   "outputs": [
    {
     "name": "stdout",
     "output_type": "stream",
     "text": [
      "If you are a Winterson fan, you will love this little book of stories. Intelligent, well-written, wildly imaginative and insightful, each story is a meal in itself and somehow part of a greater thread of intuitive wisdom that holds the collection together. Wonderfully enjoyable read, thought-provoking and delightful. \n",
      " True Label = POSITIVE\n",
      "\n",
      " Predicted Label =  ['POSITIVE'] \n",
      "\n",
      "\n",
      "This book is not relevant to modern life. It would be very difficult to recreate such a lifestyle as most people no longer live on farms. \n",
      " True Label = NEGATIVE\n",
      "\n",
      " Predicted Label =  ['NEGATIVE']\n"
     ]
    }
   ],
   "source": [
    "# Prediction testing on a random vector\n",
    "print(x_test[37],'\\n',\"True Label =\",y_test[37])\n",
    "print(\"\\n Predicted Label = \",clf_svm.predict(x_test_vectors[37]),'\\n\\n')\n",
    "\n",
    "print(x_test[61],'\\n',\"True Label =\",y_test[61])\n",
    "print(\"\\n Predicted Label = \",clf_svm.predict(x_test_vectors[61]))"
   ]
  },
  {
   "cell_type": "markdown",
   "id": "dc82f03a-a91a-4849-8a47-7ab553186211",
   "metadata": {},
   "source": [
    "### Naive Bayes"
   ]
  },
  {
   "cell_type": "code",
   "execution_count": 10,
   "id": "c009a0f6-483c-4863-bc3b-a5f876937f61",
   "metadata": {},
   "outputs": [
    {
     "data": {
      "text/html": [
       "<style>#sk-container-id-3 {color: black;background-color: white;}#sk-container-id-3 pre{padding: 0;}#sk-container-id-3 div.sk-toggleable {background-color: white;}#sk-container-id-3 label.sk-toggleable__label {cursor: pointer;display: block;width: 100%;margin-bottom: 0;padding: 0.3em;box-sizing: border-box;text-align: center;}#sk-container-id-3 label.sk-toggleable__label-arrow:before {content: \"▸\";float: left;margin-right: 0.25em;color: #696969;}#sk-container-id-3 label.sk-toggleable__label-arrow:hover:before {color: black;}#sk-container-id-3 div.sk-estimator:hover label.sk-toggleable__label-arrow:before {color: black;}#sk-container-id-3 div.sk-toggleable__content {max-height: 0;max-width: 0;overflow: hidden;text-align: left;background-color: #f0f8ff;}#sk-container-id-3 div.sk-toggleable__content pre {margin: 0.2em;color: black;border-radius: 0.25em;background-color: #f0f8ff;}#sk-container-id-3 input.sk-toggleable__control:checked~div.sk-toggleable__content {max-height: 200px;max-width: 100%;overflow: auto;}#sk-container-id-3 input.sk-toggleable__control:checked~label.sk-toggleable__label-arrow:before {content: \"▾\";}#sk-container-id-3 div.sk-estimator input.sk-toggleable__control:checked~label.sk-toggleable__label {background-color: #d4ebff;}#sk-container-id-3 div.sk-label input.sk-toggleable__control:checked~label.sk-toggleable__label {background-color: #d4ebff;}#sk-container-id-3 input.sk-hidden--visually {border: 0;clip: rect(1px 1px 1px 1px);clip: rect(1px, 1px, 1px, 1px);height: 1px;margin: -1px;overflow: hidden;padding: 0;position: absolute;width: 1px;}#sk-container-id-3 div.sk-estimator {font-family: monospace;background-color: #f0f8ff;border: 1px dotted black;border-radius: 0.25em;box-sizing: border-box;margin-bottom: 0.5em;}#sk-container-id-3 div.sk-estimator:hover {background-color: #d4ebff;}#sk-container-id-3 div.sk-parallel-item::after {content: \"\";width: 100%;border-bottom: 1px solid gray;flex-grow: 1;}#sk-container-id-3 div.sk-label:hover label.sk-toggleable__label {background-color: #d4ebff;}#sk-container-id-3 div.sk-serial::before {content: \"\";position: absolute;border-left: 1px solid gray;box-sizing: border-box;top: 0;bottom: 0;left: 50%;z-index: 0;}#sk-container-id-3 div.sk-serial {display: flex;flex-direction: column;align-items: center;background-color: white;padding-right: 0.2em;padding-left: 0.2em;position: relative;}#sk-container-id-3 div.sk-item {position: relative;z-index: 1;}#sk-container-id-3 div.sk-parallel {display: flex;align-items: stretch;justify-content: center;background-color: white;position: relative;}#sk-container-id-3 div.sk-item::before, #sk-container-id-3 div.sk-parallel-item::before {content: \"\";position: absolute;border-left: 1px solid gray;box-sizing: border-box;top: 0;bottom: 0;left: 50%;z-index: -1;}#sk-container-id-3 div.sk-parallel-item {display: flex;flex-direction: column;z-index: 1;position: relative;background-color: white;}#sk-container-id-3 div.sk-parallel-item:first-child::after {align-self: flex-end;width: 50%;}#sk-container-id-3 div.sk-parallel-item:last-child::after {align-self: flex-start;width: 50%;}#sk-container-id-3 div.sk-parallel-item:only-child::after {width: 0;}#sk-container-id-3 div.sk-dashed-wrapped {border: 1px dashed gray;margin: 0 0.4em 0.5em 0.4em;box-sizing: border-box;padding-bottom: 0.4em;background-color: white;}#sk-container-id-3 div.sk-label label {font-family: monospace;font-weight: bold;display: inline-block;line-height: 1.2em;}#sk-container-id-3 div.sk-label-container {text-align: center;}#sk-container-id-3 div.sk-container {/* jupyter's `normalize.less` sets `[hidden] { display: none; }` but bootstrap.min.css set `[hidden] { display: none !important; }` so we also need the `!important` here to be able to override the default hidden behavior on the sphinx rendered scikit-learn.org. See: https://github.com/scikit-learn/scikit-learn/issues/21755 */display: inline-block !important;position: relative;}#sk-container-id-3 div.sk-text-repr-fallback {display: none;}</style><div id=\"sk-container-id-3\" class=\"sk-top-container\"><div class=\"sk-text-repr-fallback\"><pre>GaussianNB()</pre><b>In a Jupyter environment, please rerun this cell to show the HTML representation or trust the notebook. <br />On GitHub, the HTML representation is unable to render, please try loading this page with nbviewer.org.</b></div><div class=\"sk-container\" hidden><div class=\"sk-item\"><div class=\"sk-estimator sk-toggleable\"><input class=\"sk-toggleable__control sk-hidden--visually\" id=\"sk-estimator-id-3\" type=\"checkbox\" checked><label for=\"sk-estimator-id-3\" class=\"sk-toggleable__label sk-toggleable__label-arrow\">GaussianNB</label><div class=\"sk-toggleable__content\"><pre>GaussianNB()</pre></div></div></div></div></div>"
      ],
      "text/plain": [
       "GaussianNB()"
      ]
     },
     "execution_count": 10,
     "metadata": {},
     "output_type": "execute_result"
    }
   ],
   "source": [
    "from sklearn.naive_bayes import GaussianNB\n",
    "\n",
    "# object creation\n",
    "clf_nb=GaussianNB()\n",
    "\n",
    "#fitting the model for training in a NB\n",
    "x_train_vectors_dense = x_train_vectors.toarray()\n",
    "x_test_vectors_dense  = x_test_vectors.toarray()\n",
    "clf_nb.fit(x_train_vectors_dense, y_train)"
   ]
  },
  {
   "cell_type": "code",
   "execution_count": 11,
   "id": "d382c8c8-d4f2-4fec-865a-abe35cb3c5f6",
   "metadata": {},
   "outputs": [
    {
     "name": "stdout",
     "output_type": "stream",
     "text": [
      "This odd and pretentious novel is based on the true case of an innocent man who falsely confessed to a series of homicides. The nation is on edge in the wake of a series of mysterious disappearances. The targets, all older, solitary sorts, vanish and their presumed abductor leaves nary a clue but for a marked playing card. Oda Sotatsu is a young man living a life both unfulfilling and uninteresting. That is until he meets a troublesome couple, the supposedly charismatic Sato Kakuzo and his girlfriend, the alluring,Jito Joo. Clearly disturbed, they play games and place wagers where the loser has to physically harm himself. They attach to Oda, inducing him into  a wager after plying him with alcohol. After losing the game, he signs a detailed confession admitting culpability in the disappearances. Joo delivers the confession to the police and Oda is soon arrested, imprisoned, abused, tried and convicted. He is subsequently sentenced to death by hanging and executed, remaining silent throughout the whole ordeal. Enter journalist Bell who is drawn to the mystery while still pondering the dissolution of his marriage. The book is largely a series of transcripts of the bewildered and dismayed family members, interrogations, newspaper coverage of the trial and finally with Joo and Kakuzo.This book felt half baked.  The transcript style of telling the story contributed to the unfinished feel. The story lacked suspense and mystery but it was far from a searing condemnation of the Japanese justice system. Obviously a confession is the gold standard in Japanese jurisprudence because there was really no evidence that a crime was committed, much less that Oda committed one. Oda's behavior and refusal to speak or defend himself was inexplicable, even if one factors in traditional concepts of honor. Joo and Kakuzo fail to trigger the fascination that classically destructive couples do. They are not Sid and Nancy, Bonnie and Clyde or even Romeo and Juliet. They are boring and shallow. The ending is a total disappointment making the sacrifice and I use the term loosely of Oda's life stupid and meaningless.This could have been an examination of false confessions or an indictment of the death penalty. It could have been a haunting character study that addressed  the relevance of honor in modern society. The spare writing contributed to a dream like atmosphere but muted even the horror of the gallows. Oda remained a cipher. Despite the cool cover, this book was no more than two hundred plus pages of self indulgence. Pass. \n",
      " True Label = NEGATIVE\n",
      "\n",
      " Predicted Label =  ['NEGATIVE'] \n",
      "\n",
      "\n",
      "The 2 star doesn't have anything to do with Tris' decision. It was disappointing because he previous 2 books had such an intensity that I actually felt let down by the author. The explanation on how the 'experiments' were conducted was a bit insulting, being a person in science myself, which is big part on the reason for the low score. I felt too much explanation was given on the last book that wasn't even hinted on the previous ones. I do think a lot of it could have been utilized earlier in the story and not have to rush everything for the end.On e other hand, I did like how Four came down from the pedestal and joined the rest of the world, but thought extreme and unnecessary. Did appreciate the fights and doubts on their relationship, making it more real to me, but again I felt it was to extreme and too dull. It did continue building on the importance of forgiveness and self-confidence and therefore the second star, but after the hype on the first 2 books, I don't feel this one lived up them and that was a big disappointment. \n",
      " True Label = NEGATIVE\n",
      "\n",
      " Predicted Label =  ['NEGATIVE']\n"
     ]
    }
   ],
   "source": [
    "# Prediction testing on a random vector\n",
    "print(x_test[69],'\\n',\"True Label =\",y_test[69])\n",
    "print(\"\\n Predicted Label = \",clf_svm.predict(x_test_vectors[69]),'\\n\\n')\n",
    "\n",
    "print(x_test[88],'\\n',\"True Label =\",y_test[88])\n",
    "print(\"\\n Predicted Label = \",clf_svm.predict(x_test_vectors[88]))"
   ]
  },
  {
   "cell_type": "markdown",
   "id": "b0e644c4-6f75-4dda-b3b4-92ce9ee0fba5",
   "metadata": {},
   "source": [
    "### Logistic Regression"
   ]
  },
  {
   "cell_type": "code",
   "execution_count": 12,
   "id": "cb12865c-fec8-40b3-8137-50f294289824",
   "metadata": {},
   "outputs": [
    {
     "data": {
      "text/html": [
       "<style>#sk-container-id-4 {color: black;background-color: white;}#sk-container-id-4 pre{padding: 0;}#sk-container-id-4 div.sk-toggleable {background-color: white;}#sk-container-id-4 label.sk-toggleable__label {cursor: pointer;display: block;width: 100%;margin-bottom: 0;padding: 0.3em;box-sizing: border-box;text-align: center;}#sk-container-id-4 label.sk-toggleable__label-arrow:before {content: \"▸\";float: left;margin-right: 0.25em;color: #696969;}#sk-container-id-4 label.sk-toggleable__label-arrow:hover:before {color: black;}#sk-container-id-4 div.sk-estimator:hover label.sk-toggleable__label-arrow:before {color: black;}#sk-container-id-4 div.sk-toggleable__content {max-height: 0;max-width: 0;overflow: hidden;text-align: left;background-color: #f0f8ff;}#sk-container-id-4 div.sk-toggleable__content pre {margin: 0.2em;color: black;border-radius: 0.25em;background-color: #f0f8ff;}#sk-container-id-4 input.sk-toggleable__control:checked~div.sk-toggleable__content {max-height: 200px;max-width: 100%;overflow: auto;}#sk-container-id-4 input.sk-toggleable__control:checked~label.sk-toggleable__label-arrow:before {content: \"▾\";}#sk-container-id-4 div.sk-estimator input.sk-toggleable__control:checked~label.sk-toggleable__label {background-color: #d4ebff;}#sk-container-id-4 div.sk-label input.sk-toggleable__control:checked~label.sk-toggleable__label {background-color: #d4ebff;}#sk-container-id-4 input.sk-hidden--visually {border: 0;clip: rect(1px 1px 1px 1px);clip: rect(1px, 1px, 1px, 1px);height: 1px;margin: -1px;overflow: hidden;padding: 0;position: absolute;width: 1px;}#sk-container-id-4 div.sk-estimator {font-family: monospace;background-color: #f0f8ff;border: 1px dotted black;border-radius: 0.25em;box-sizing: border-box;margin-bottom: 0.5em;}#sk-container-id-4 div.sk-estimator:hover {background-color: #d4ebff;}#sk-container-id-4 div.sk-parallel-item::after {content: \"\";width: 100%;border-bottom: 1px solid gray;flex-grow: 1;}#sk-container-id-4 div.sk-label:hover label.sk-toggleable__label {background-color: #d4ebff;}#sk-container-id-4 div.sk-serial::before {content: \"\";position: absolute;border-left: 1px solid gray;box-sizing: border-box;top: 0;bottom: 0;left: 50%;z-index: 0;}#sk-container-id-4 div.sk-serial {display: flex;flex-direction: column;align-items: center;background-color: white;padding-right: 0.2em;padding-left: 0.2em;position: relative;}#sk-container-id-4 div.sk-item {position: relative;z-index: 1;}#sk-container-id-4 div.sk-parallel {display: flex;align-items: stretch;justify-content: center;background-color: white;position: relative;}#sk-container-id-4 div.sk-item::before, #sk-container-id-4 div.sk-parallel-item::before {content: \"\";position: absolute;border-left: 1px solid gray;box-sizing: border-box;top: 0;bottom: 0;left: 50%;z-index: -1;}#sk-container-id-4 div.sk-parallel-item {display: flex;flex-direction: column;z-index: 1;position: relative;background-color: white;}#sk-container-id-4 div.sk-parallel-item:first-child::after {align-self: flex-end;width: 50%;}#sk-container-id-4 div.sk-parallel-item:last-child::after {align-self: flex-start;width: 50%;}#sk-container-id-4 div.sk-parallel-item:only-child::after {width: 0;}#sk-container-id-4 div.sk-dashed-wrapped {border: 1px dashed gray;margin: 0 0.4em 0.5em 0.4em;box-sizing: border-box;padding-bottom: 0.4em;background-color: white;}#sk-container-id-4 div.sk-label label {font-family: monospace;font-weight: bold;display: inline-block;line-height: 1.2em;}#sk-container-id-4 div.sk-label-container {text-align: center;}#sk-container-id-4 div.sk-container {/* jupyter's `normalize.less` sets `[hidden] { display: none; }` but bootstrap.min.css set `[hidden] { display: none !important; }` so we also need the `!important` here to be able to override the default hidden behavior on the sphinx rendered scikit-learn.org. See: https://github.com/scikit-learn/scikit-learn/issues/21755 */display: inline-block !important;position: relative;}#sk-container-id-4 div.sk-text-repr-fallback {display: none;}</style><div id=\"sk-container-id-4\" class=\"sk-top-container\"><div class=\"sk-text-repr-fallback\"><pre>LogisticRegression(max_iter=1000)</pre><b>In a Jupyter environment, please rerun this cell to show the HTML representation or trust the notebook. <br />On GitHub, the HTML representation is unable to render, please try loading this page with nbviewer.org.</b></div><div class=\"sk-container\" hidden><div class=\"sk-item\"><div class=\"sk-estimator sk-toggleable\"><input class=\"sk-toggleable__control sk-hidden--visually\" id=\"sk-estimator-id-4\" type=\"checkbox\" checked><label for=\"sk-estimator-id-4\" class=\"sk-toggleable__label sk-toggleable__label-arrow\">LogisticRegression</label><div class=\"sk-toggleable__content\"><pre>LogisticRegression(max_iter=1000)</pre></div></div></div></div></div>"
      ],
      "text/plain": [
       "LogisticRegression(max_iter=1000)"
      ]
     },
     "execution_count": 12,
     "metadata": {},
     "output_type": "execute_result"
    }
   ],
   "source": [
    "from sklearn.linear_model import LogisticRegression\n",
    "\n",
    "# object creation\n",
    "clf_log = LogisticRegression(max_iter=1000)\n",
    "\n",
    "#fitting the model for training in a NB\n",
    "clf_log.fit(x_train_vectors,y_train)"
   ]
  },
  {
   "cell_type": "code",
   "execution_count": 13,
   "id": "fa333e49-125e-4bce-81bf-fc0c8f498647",
   "metadata": {},
   "outputs": [
    {
     "name": "stdout",
     "output_type": "stream",
     "text": [
      "I really have enjoyed this series and can't wait for the next one to come out. I especially liked that the author gave Kid and Jason their own stories, even though they occurred at the same time. She could have easily put them both into one book and jumped between locations. I am so glad she didn't.The last two installments have not had as much sensuality as the previous 3 books, but the story line is there, so you don't necessarily miss it. I do like how she has not just dropped the other characters in sacrifice to the current beau.This is a great series. \n",
      " True Label = POSITIVE\n",
      "\n",
      " Predicted Label =  ['POSITIVE'] \n",
      "\n",
      "\n",
      "This book is outstanding. The format is user friendly and it covers the core with lots of examples. It is well worth the purchase. \n",
      " True Label = POSITIVE\n",
      "\n",
      " Predicted Label =  ['POSITIVE']\n"
     ]
    }
   ],
   "source": [
    "# Prediction testing on a random vector\n",
    "print(x_test[35],'\\n',\"True Label =\",y_test[35])\n",
    "print(\"\\n Predicted Label = \",clf_svm.predict(x_test_vectors[35]),'\\n\\n')\n",
    "\n",
    "print(x_test[99],'\\n',\"True Label =\",y_test[99])\n",
    "print(\"\\n Predicted Label = \",clf_svm.predict(x_test_vectors[99]))"
   ]
  },
  {
   "cell_type": "markdown",
   "id": "e947f40f-5ebb-4f37-906a-c1b520a07684",
   "metadata": {},
   "source": [
    "## **Evaluation**"
   ]
  },
  {
   "cell_type": "code",
   "execution_count": 14,
   "id": "831e8fcc-2441-40b2-8b61-de84add5b674",
   "metadata": {},
   "outputs": [
    {
     "name": "stdout",
     "output_type": "stream",
     "text": [
      "Mean Accuracy:\n",
      "\n",
      "Support Vector Machine score =  0.8197115384615384 \n",
      "\n",
      "Decision Tree score =  0.6706730769230769 \n",
      "\n",
      "Naive Bayes score =  0.6610576923076923 \n",
      "\n",
      "Logistic regression score =  0.8052884615384616 \n",
      "\n"
     ]
    }
   ],
   "source": [
    "# Mean accuracy on the given test data and labels\n",
    "print(\"Mean Accuracy:\\n\")\n",
    "print(\"Support Vector Machine score = \",clf_svm.score(x_test_vectors,y_test),'\\n')\n",
    "print(\"Decision Tree score = \",clf_dec.score(x_test_vectors,y_test),'\\n')\n",
    "print(\"Naive Bayes score = \",clf_nb.score(x_test_vectors_dense,y_test),'\\n')\n",
    "print(\"Logistic regression score = \",clf_log.score(x_test_vectors,y_test),'\\n')"
   ]
  },
  {
   "cell_type": "code",
   "execution_count": 15,
   "id": "7f2ea80f-eed3-4377-ba7f-11bde28e4424",
   "metadata": {},
   "outputs": [
    {
     "name": "stdout",
     "output_type": "stream",
     "text": [
      "Support Vector Machine F1 score =  [0.82269504 0.81662592] \n",
      "\n",
      "Decision Tree F1 score =  [0.66666667 0.67458432] \n",
      "\n",
      "Naive Bayes F1 score =  [0.65693431 0.66508314] \n",
      "\n",
      "Logistic regression F1 score =  [0.80291971 0.80760095] \n",
      "\n"
     ]
    }
   ],
   "source": [
    "# F1 Scores:\n",
    "from sklearn.metrics import f1_score\n",
    "print(\"Support Vector Machine F1 score = \",f1_score(y_test,clf_svm.predict(x_test_vectors),average=None,labels=[Sentiment.POSITIVE,Sentiment.NEGATIVE]),'\\n')\n",
    "print(\"Decision Tree F1 score = \",f1_score(y_test,clf_dec.predict(x_test_vectors),average=None,labels=[Sentiment.POSITIVE,Sentiment.NEGATIVE]),'\\n')\n",
    "print(\"Naive Bayes F1 score = \",f1_score(y_test,clf_nb.predict(x_test_vectors_dense),average=None,labels=[Sentiment.POSITIVE,Sentiment.NEGATIVE]),'\\n')\n",
    "print(\"Logistic regression F1 score = \",f1_score(y_test,clf_log.predict(x_test_vectors),average=None,labels=[Sentiment.POSITIVE,Sentiment.NEGATIVE]),'\\n')"
   ]
  },
  {
   "cell_type": "markdown",
   "id": "787c8801-4701-4893-9a4a-9ba5ad8c6aca",
   "metadata": {
    "tags": []
   },
   "source": [
    "### Optimization using GridSearch (cross validation)"
   ]
  },
  {
   "cell_type": "code",
   "execution_count": 16,
   "id": "c7e0efb3-1ef3-48e9-b5b2-14bd2112b582",
   "metadata": {},
   "outputs": [
    {
     "name": "stdout",
     "output_type": "stream",
     "text": [
      "0.8197115384615384\n"
     ]
    }
   ],
   "source": [
    "from sklearn.model_selection import GridSearchCV\n",
    "abc_svc=svm.SVC(kernel='rbf',C=4.0)\n",
    "abc_svc.fit(x_train_vectors,y_train)\n",
    "\n",
    "print(abc_svc.score(x_test_vectors,y_test))"
   ]
  },
  {
   "cell_type": "code",
   "execution_count": 17,
   "id": "1a90929c-46f6-472e-9001-00260f346530",
   "metadata": {},
   "outputs": [
    {
     "name": "stdout",
     "output_type": "stream",
     "text": [
      "For kernel linear\n",
      "Accuracy is:  0.8052884615384616\n",
      "For kernel rbf\n",
      "Accuracy is:  0.8197115384615384\n",
      "For kernel poly\n",
      "Accuracy is:  0.7716346153846154\n"
     ]
    }
   ],
   "source": [
    "kernel=['linear','rbf','poly']\n",
    "for i in kernel:\n",
    "    model=svm.SVC(kernel=i,C=4.0)\n",
    "    model.fit(x_train_vectors,y_train)\n",
    "    print('For kernel',i)\n",
    "    print(\"Accuracy is: \",model.score(x_test_vectors,y_test))"
   ]
  },
  {
   "cell_type": "code",
   "execution_count": 18,
   "id": "2fda77f1-86fc-4659-87e8-f849e4916137",
   "metadata": {},
   "outputs": [
    {
     "name": "stdout",
     "output_type": "stream",
     "text": [
      "Accuracy on training data:  0.5\n",
      "Accuracy on testing data:  0.5\n",
      "Accuracy on training data:  1.0\n",
      "Accuracy on testing data:  0.8028846153846154\n",
      "Accuracy on training data:  1.0\n",
      "Accuracy on testing data:  0.8197115384615384\n",
      "Accuracy on training data:  1.0\n",
      "Accuracy on testing data:  0.7716346153846154\n",
      "Accuracy on training data:  1.0\n",
      "Accuracy on testing data:  0.7067307692307693\n",
      "Accuracy on training data:  1.0\n",
      "Accuracy on testing data:  0.6658653846153846\n",
      "Accuracy on training data:  1.0\n",
      "Accuracy on testing data:  0.6514423076923077\n",
      "Accuracy on training data:  1.0\n",
      "Accuracy on testing data:  0.6298076923076923\n",
      "Accuracy on training data:  1.0\n",
      "Accuracy on testing data:  0.6201923076923077\n",
      "Accuracy on training data:  1.0\n",
      "Accuracy on testing data:  0.6201923076923077\n"
     ]
    }
   ],
   "source": [
    "import pandas as pd\n",
    "for i in range(1,10):\n",
    "    model=svm.SVC(kernel='poly',degree=i,C=100,)\n",
    "    model.fit(x_train_vectors,y_train)\n",
    "    print(\"Accuracy on training data: \",model.score(x_train_vectors,y_train))\n",
    "    print(\"Accuracy on testing data: \",model.score(x_test_vectors,y_test))\n",
    "    "
   ]
  },
  {
   "cell_type": "markdown",
   "id": "7a2f8ba6-27d8-40a3-9550-357703aa0228",
   "metadata": {},
   "source": [
    "## **Qualitative Testing** "
   ]
  },
  {
   "cell_type": "code",
   "execution_count": 19,
   "id": "bb9d5586-0571-469c-bc9f-c7115a6c3146",
   "metadata": {},
   "outputs": [
    {
     "name": "stdout",
     "output_type": "stream",
     "text": [
      "['NEGATIVE']\n"
     ]
    }
   ],
   "source": [
    "test_review=[\"Such a boring read,couldn't finish!!\"]\n",
    "new_test=vectorizer.transform(test_review)\n",
    "print(clf_svm.predict(new_test))"
   ]
  },
  {
   "cell_type": "code",
   "execution_count": 20,
   "id": "8015e62f-827f-4173-9f76-c09dd4398e8f",
   "metadata": {},
   "outputs": [
    {
     "name": "stdout",
     "output_type": "stream",
     "text": [
      "['POSITIVE']\n"
     ]
    }
   ],
   "source": [
    "test_review=[\"Had an amazing experience reading this thrilling book!!\"]\n",
    "new_test=vectorizer.transform(test_review)\n",
    "print(clf_svm.predict(new_test))"
   ]
  },
  {
   "cell_type": "code",
   "execution_count": 21,
   "id": "917d17a5-6d2d-4a96-ae20-ed16bc8720fb",
   "metadata": {},
   "outputs": [
    {
     "name": "stdout",
     "output_type": "stream",
     "text": [
      "['NEGATIVE']\n"
     ]
    }
   ],
   "source": [
    "test_review=[\"What the hell was that!!\"]\n",
    "new_test=vectorizer.transform(test_review)\n",
    "print(clf_svm.predict(new_test))"
   ]
  },
  {
   "cell_type": "code",
   "execution_count": 22,
   "id": "f045150d-6527-4d61-b3b0-a4513182b8cc",
   "metadata": {},
   "outputs": [
    {
     "name": "stdout",
     "output_type": "stream",
     "text": [
      "['POSITIVE']\n"
     ]
    }
   ],
   "source": [
    "test_review=[\" This is wonderful book, inspiring and wise. My uncle was taken by the Nazis and was almost dead due to typhus when the camp at Dachau was liberated. He was discovered in a heap of bodies by a doctor who noticed a flicker of his eyelids. He was taken to hospital in Budapest and survived until 1967. This book gave me an insight into what he must have suffered. He never complained was always cheerful and full of mischief. The second half of the book about logotherapy is also very interesting and worth reading. \"]\n",
    "new_test=vectorizer.transform(test_review)\n",
    "print(clf_svm.predict(new_test))"
   ]
  },
  {
   "cell_type": "code",
   "execution_count": 23,
   "id": "ee830695-c7fc-4a7e-aeb2-3e7af55f419f",
   "metadata": {},
   "outputs": [
    {
     "name": "stdout",
     "output_type": "stream",
     "text": [
      "['NEGATIVE']\n"
     ]
    }
   ],
   "source": [
    "test_review=['Too many technical terms in physchology domain makes reading very uncomfortable. Not much of a self help book as tagged.']\n",
    "new_test=vectorizer.transform(test_review)\n",
    "print(clf_svm.predict(new_test))"
   ]
  },
  {
   "cell_type": "markdown",
   "id": "ac1d54c6-53d3-46df-b261-ea55221bdeaa",
   "metadata": {},
   "source": [
    "## Saving Model"
   ]
  },
  {
   "cell_type": "code",
   "execution_count": 24,
   "id": "cf43a1b9-5325-4cd9-9361-4f361435cc16",
   "metadata": {},
   "outputs": [],
   "source": [
    "import pickle\n",
    "\n",
    "with open('./models/sentiment_class_svm.pkl', 'wb') as f:\n",
    "    pickle.dump(clf_svm, f)\n",
    "    \n",
    "with open('./models/sentiment_class_svm_vectorizer.pkl', 'wb') as f:\n",
    "    pickle.dump(vectorizer, f)"
   ]
  },
  {
   "cell_type": "markdown",
   "id": "a16a4093-b144-4c6b-b146-0236c064c02c",
   "metadata": {},
   "source": [
    "# **Thank You 😄**"
   ]
  },
  {
   "cell_type": "code",
   "execution_count": null,
   "id": "20d9c79c-80cc-41fb-add4-b6901cd34731",
   "metadata": {},
   "outputs": [],
   "source": []
  },
  {
   "cell_type": "code",
   "execution_count": null,
   "id": "3c3dc896-4d76-49d8-b7dd-8fee89fe79e7",
   "metadata": {},
   "outputs": [],
   "source": []
  },
  {
   "cell_type": "code",
   "execution_count": null,
   "id": "163587d4-da58-4ed7-9bbf-121117b08476",
   "metadata": {},
   "outputs": [],
   "source": []
  },
  {
   "cell_type": "code",
   "execution_count": null,
   "id": "34fa28ca-d0ba-4c07-ae9c-53a01ce3054f",
   "metadata": {},
   "outputs": [],
   "source": []
  }
 ],
 "metadata": {
  "kernelspec": {
   "display_name": "Python 3",
   "language": "python",
   "name": "python3"
  },
  "language_info": {
   "codemirror_mode": {
    "name": "ipython",
    "version": 3
   },
   "file_extension": ".py",
   "mimetype": "text/x-python",
   "name": "python",
   "nbconvert_exporter": "python",
   "pygments_lexer": "ipython3",
   "version": "3.10.9"
  }
 },
 "nbformat": 4,
 "nbformat_minor": 5
}
